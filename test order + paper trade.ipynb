{
 "cells": [
  {
   "cell_type": "code",
   "execution_count": 1,
   "id": "6fcb37d6",
   "metadata": {},
   "outputs": [],
   "source": []
  },
  {
   "cell_type": "code",
   "execution_count": 14,
   "id": "384ea141",
   "metadata": {},
   "outputs": [],
   "source": [
    "from binance.client import Client\n",
    "import pandas as pd"
   ]
  },
  {
   "cell_type": "code",
   "execution_count": 6,
   "id": "d025004f",
   "metadata": {},
   "outputs": [],
   "source": []
  },
  {
   "cell_type": "code",
   "execution_count": 7,
   "id": "a2c122c1",
   "metadata": {},
   "outputs": [],
   "source": [
    "# place a test market buy order, to place an actual order use the create_order function\n",
    "order = client.create_test_order(symbol = \"BTCUSD\", side = \"BUY\", type = 'MARKET', quantity = 0.1)"
   ]
  },
  {
   "cell_type": "code",
   "execution_count": 8,
   "id": "700580e0",
   "metadata": {},
   "outputs": [
    {
     "data": {
      "text/plain": [
       "{}"
      ]
     },
     "execution_count": 8,
     "metadata": {},
     "output_type": "execute_result"
    }
   ],
   "source": [
    "order"
   ]
  },
  {
   "cell_type": "markdown",
   "id": "60f178ee",
   "metadata": {},
   "source": [
    "## Binance Spot Test Network\n",
    "\n",
    "https://testnet.binance.vision"
   ]
  },
  {
   "cell_type": "code",
   "execution_count": 30,
   "id": "bdb2d0c0",
   "metadata": {},
   "outputs": [],
   "source": [
    "api_key_test = \"1dE9CkT4AUeDf5hILxnwieYfAVeshlGmnQnfospT2oJ0voQtFlK4Wgz2pNvbaFTe\"\n",
    "secret_key_test = \"Bw2aJvxTKz3vtVQlnZVHHnWi7sTWnVha5k4hU2awdWTwjM9bOFfbswDo7N9DEhyx\""
   ]
  },
  {
   "cell_type": "markdown",
   "id": "b62bd36f",
   "metadata": {},
   "source": [
    "## Create a connection to the Spot Testnet"
   ]
  },
  {
   "cell_type": "code",
   "execution_count": 78,
   "id": "99454f07",
   "metadata": {},
   "outputs": [],
   "source": [
    "client = Client(api_key = api_key_test, api_secret = secret_key_test, tld = 'com', testnet = True)\n",
    "# TEST NET!!!!!!!"
   ]
  },
  {
   "cell_type": "markdown",
   "id": "0563894d",
   "metadata": {},
   "source": [
    "### Simple Rule:\n",
    "### Use your Testnet credentials with Testnet = True to paper trade"
   ]
  },
  {
   "cell_type": "code",
   "execution_count": 47,
   "id": "65286cf4",
   "metadata": {},
   "outputs": [
    {
     "data": {
      "text/plain": [
       "<binance.client.Client at 0x7f9da93a8a60>"
      ]
     },
     "execution_count": 47,
     "metadata": {},
     "output_type": "execute_result"
    }
   ],
   "source": [
    "client"
   ]
  },
  {
   "cell_type": "code",
   "execution_count": 48,
   "id": "5b086d94",
   "metadata": {},
   "outputs": [
    {
     "data": {
      "text/plain": [
       "{'makerCommission': 0,\n",
       " 'takerCommission': 0,\n",
       " 'buyerCommission': 0,\n",
       " 'sellerCommission': 0,\n",
       " 'canTrade': True,\n",
       " 'canWithdraw': False,\n",
       " 'canDeposit': False,\n",
       " 'brokered': False,\n",
       " 'updateTime': 1661526030854,\n",
       " 'accountType': 'SPOT',\n",
       " 'balances': [{'asset': 'BNB',\n",
       "   'free': '1000.00000000',\n",
       "   'locked': '0.00000000'},\n",
       "  {'asset': 'BTC', 'free': '1.00000000', 'locked': '0.00000000'},\n",
       "  {'asset': 'BUSD', 'free': '10000.00000000', 'locked': '0.00000000'},\n",
       "  {'asset': 'ETH', 'free': '100.00000000', 'locked': '0.00000000'},\n",
       "  {'asset': 'LTC', 'free': '500.00000000', 'locked': '0.00000000'},\n",
       "  {'asset': 'TRX', 'free': '500000.00000000', 'locked': '0.00000000'},\n",
       "  {'asset': 'USDT', 'free': '10000.00000000', 'locked': '0.00000000'},\n",
       "  {'asset': 'XRP', 'free': '50000.00000000', 'locked': '0.00000000'}],\n",
       " 'permissions': ['SPOT']}"
      ]
     },
     "execution_count": 48,
     "metadata": {},
     "output_type": "execute_result"
    }
   ],
   "source": [
    "account = client.get_account()\n",
    "account"
   ]
  },
  {
   "cell_type": "code",
   "execution_count": 49,
   "id": "f0da6feb",
   "metadata": {
    "scrolled": true
   },
   "outputs": [
    {
     "data": {
      "text/plain": [
       "{'asset': 'BTC', 'free': '1.00000000', 'locked': '0.00000000'}"
      ]
     },
     "execution_count": 49,
     "metadata": {},
     "output_type": "execute_result"
    }
   ],
   "source": [
    "client.get_asset_balance(asset = \"BTC\")"
   ]
  },
  {
   "cell_type": "code",
   "execution_count": 50,
   "id": "8538ca3f",
   "metadata": {},
   "outputs": [],
   "source": [
    "df = pd.DataFrame(account['balances'])"
   ]
  },
  {
   "cell_type": "code",
   "execution_count": 40,
   "id": "dcca0cdc",
   "metadata": {},
   "outputs": [
    {
     "data": {
      "text/html": [
       "<div>\n",
       "<style scoped>\n",
       "    .dataframe tbody tr th:only-of-type {\n",
       "        vertical-align: middle;\n",
       "    }\n",
       "\n",
       "    .dataframe tbody tr th {\n",
       "        vertical-align: top;\n",
       "    }\n",
       "\n",
       "    .dataframe thead th {\n",
       "        text-align: right;\n",
       "    }\n",
       "</style>\n",
       "<table border=\"1\" class=\"dataframe\">\n",
       "  <thead>\n",
       "    <tr style=\"text-align: right;\">\n",
       "      <th></th>\n",
       "      <th>asset</th>\n",
       "      <th>free</th>\n",
       "      <th>locked</th>\n",
       "    </tr>\n",
       "  </thead>\n",
       "  <tbody>\n",
       "    <tr>\n",
       "      <th>0</th>\n",
       "      <td>BNB</td>\n",
       "      <td>1000.00000000</td>\n",
       "      <td>0.00000000</td>\n",
       "    </tr>\n",
       "    <tr>\n",
       "      <th>1</th>\n",
       "      <td>BTC</td>\n",
       "      <td>1.00000000</td>\n",
       "      <td>0.00000000</td>\n",
       "    </tr>\n",
       "    <tr>\n",
       "      <th>2</th>\n",
       "      <td>BUSD</td>\n",
       "      <td>10000.00000000</td>\n",
       "      <td>0.00000000</td>\n",
       "    </tr>\n",
       "    <tr>\n",
       "      <th>3</th>\n",
       "      <td>ETH</td>\n",
       "      <td>100.00000000</td>\n",
       "      <td>0.00000000</td>\n",
       "    </tr>\n",
       "    <tr>\n",
       "      <th>4</th>\n",
       "      <td>LTC</td>\n",
       "      <td>500.00000000</td>\n",
       "      <td>0.00000000</td>\n",
       "    </tr>\n",
       "    <tr>\n",
       "      <th>5</th>\n",
       "      <td>TRX</td>\n",
       "      <td>500000.00000000</td>\n",
       "      <td>0.00000000</td>\n",
       "    </tr>\n",
       "    <tr>\n",
       "      <th>6</th>\n",
       "      <td>USDT</td>\n",
       "      <td>10000.00000000</td>\n",
       "      <td>0.00000000</td>\n",
       "    </tr>\n",
       "    <tr>\n",
       "      <th>7</th>\n",
       "      <td>XRP</td>\n",
       "      <td>50000.00000000</td>\n",
       "      <td>0.00000000</td>\n",
       "    </tr>\n",
       "  </tbody>\n",
       "</table>\n",
       "</div>"
      ],
      "text/plain": [
       "  asset             free      locked\n",
       "0   BNB    1000.00000000  0.00000000\n",
       "1   BTC       1.00000000  0.00000000\n",
       "2  BUSD   10000.00000000  0.00000000\n",
       "3   ETH     100.00000000  0.00000000\n",
       "4   LTC     500.00000000  0.00000000\n",
       "5   TRX  500000.00000000  0.00000000\n",
       "6  USDT   10000.00000000  0.00000000\n",
       "7   XRP   50000.00000000  0.00000000"
      ]
     },
     "execution_count": 40,
     "metadata": {},
     "output_type": "execute_result"
    }
   ],
   "source": [
    "df"
   ]
  },
  {
   "cell_type": "code",
   "execution_count": 51,
   "id": "8d40841d",
   "metadata": {},
   "outputs": [
    {
     "name": "stdout",
     "output_type": "stream",
     "text": [
      "<class 'pandas.core.frame.DataFrame'>\n",
      "RangeIndex: 8 entries, 0 to 7\n",
      "Data columns (total 3 columns):\n",
      " #   Column  Non-Null Count  Dtype \n",
      "---  ------  --------------  ----- \n",
      " 0   asset   8 non-null      object\n",
      " 1   free    8 non-null      object\n",
      " 2   locked  8 non-null      object\n",
      "dtypes: object(3)\n",
      "memory usage: 320.0+ bytes\n"
     ]
    }
   ],
   "source": [
    "df.info()"
   ]
  },
  {
   "cell_type": "code",
   "execution_count": 67,
   "id": "cf7bbae3",
   "metadata": {},
   "outputs": [
    {
     "data": {
      "text/plain": [
       "{'symbol': 'BTCUSDT', 'price': '20721.98000000'}"
      ]
     },
     "execution_count": 67,
     "metadata": {},
     "output_type": "execute_result"
    }
   ],
   "source": [
    "client.get_symbol_ticker(symbol = \"BTCUSDT\")"
   ]
  },
  {
   "cell_type": "code",
   "execution_count": 68,
   "id": "9a5eda87",
   "metadata": {},
   "outputs": [
    {
     "data": {
      "text/plain": [
       "[{'symbol': 'BNBBUSD', 'price': '286.40000000'},\n",
       " {'symbol': 'BTCBUSD', 'price': '20722.32000000'},\n",
       " {'symbol': 'ETHBUSD', 'price': '1563.79000000'},\n",
       " {'symbol': 'LTCBUSD', 'price': '54.39000000'},\n",
       " {'symbol': 'TRXBUSD', 'price': '0.06244000'},\n",
       " {'symbol': 'XRPBUSD', 'price': '0.33990000'},\n",
       " {'symbol': 'BNBUSDT', 'price': '286.20000000'},\n",
       " {'symbol': 'BTCUSDT', 'price': '20722.10000000'},\n",
       " {'symbol': 'ETHUSDT', 'price': '1563.70000000'},\n",
       " {'symbol': 'LTCUSDT', 'price': '54.40000000'},\n",
       " {'symbol': 'TRXUSDT', 'price': '0.06244000'},\n",
       " {'symbol': 'XRPUSDT', 'price': '0.33990000'},\n",
       " {'symbol': 'BNBBTC', 'price': '0.01380500'},\n",
       " {'symbol': 'ETHBTC', 'price': '0.07548100'},\n",
       " {'symbol': 'LTCBTC', 'price': '0.00262400'},\n",
       " {'symbol': 'TRXBTC', 'price': '0.00000301'},\n",
       " {'symbol': 'XRPBTC', 'price': '0.00001640'},\n",
       " {'symbol': 'LTCBNB', 'price': '0.19010000'},\n",
       " {'symbol': 'TRXBNB', 'price': '0.00021810'},\n",
       " {'symbol': 'XRPBNB', 'price': '0.00118600'}]"
      ]
     },
     "execution_count": 68,
     "metadata": {},
     "output_type": "execute_result"
    }
   ],
   "source": [
    "# get current prices for all pairs\n",
    "client.get_all_tickers()"
   ]
  },
  {
   "cell_type": "code",
   "execution_count": 55,
   "id": "edbb2e42",
   "metadata": {},
   "outputs": [
    {
     "data": {
      "text/plain": [
       "{'symbol': 'BTCUSDT',\n",
       " 'priceChange': '-886.01000000',\n",
       " 'priceChangePercent': '-4.103',\n",
       " 'weightedAvgPrice': '21481.81066739',\n",
       " 'prevClosePrice': '21594.61000000',\n",
       " 'lastPrice': '20707.39000000',\n",
       " 'lastQty': '0.00100000',\n",
       " 'bidPrice': '20707.39000000',\n",
       " 'bidQty': '0.10524300',\n",
       " 'askPrice': '20708.04000000',\n",
       " 'askQty': '0.13956000',\n",
       " 'openPrice': '21593.40000000',\n",
       " 'highPrice': '21935.16000000',\n",
       " 'lowPrice': '20081.35000000',\n",
       " 'volume': '8036.51982700',\n",
       " 'quoteVolume': '172638997.34836912',\n",
       " 'openTime': 1661440804457,\n",
       " 'closeTime': 1661527204457,\n",
       " 'firstId': 3490014,\n",
       " 'lastId': 3671785,\n",
       " 'count': 181772}"
      ]
     },
     "execution_count": 55,
     "metadata": {},
     "output_type": "execute_result"
    }
   ],
   "source": [
    "last24 = client.get_ticker(symbol = 'BTCUSDT')\n",
    "last24"
   ]
  },
  {
   "cell_type": "code",
   "execution_count": 69,
   "id": "4abc1f89",
   "metadata": {},
   "outputs": [
    {
     "data": {
      "text/plain": [
       "1659657600000"
      ]
     },
     "execution_count": 69,
     "metadata": {},
     "output_type": "execute_result"
    }
   ],
   "source": [
    "timestamp = client._get_earliest_valid_timestamp(symbol = 'BTCUSDT', interval = '1d')\n",
    "timestamp"
   ]
  },
  {
   "cell_type": "code",
   "execution_count": 70,
   "id": "48ca2a24",
   "metadata": {},
   "outputs": [
    {
     "data": {
      "text/plain": [
       "Timestamp('2022-08-05 00:00:00')"
      ]
     },
     "execution_count": 70,
     "metadata": {},
     "output_type": "execute_result"
    }
   ],
   "source": [
    "pd.to_datetime(timestamp, unit = 'ms')\n",
    "# the spotnet resets every month so you will only have data up to this point"
   ]
  },
  {
   "cell_type": "code",
   "execution_count": 62,
   "id": "22f230da",
   "metadata": {},
   "outputs": [],
   "source": [
    "def get_history(symbol, interval, start, end = None):\n",
    "    bars = client.get_historical_klines(symbol = symbol, interval = interval,\n",
    "                                        start_str = start, end_str = end, limit = 1000)\n",
    "    df = pd.DataFrame(bars)\n",
    "    df[\"Date\"] = pd.to_datetime(df.iloc[:,0], unit = \"ms\")\n",
    "    df.columns = [\"Open Time\", \"Open\", \"High\", \"Low\", \"Close\", \"Volume\",\n",
    "                  \"Close Time\", \"Quote Asset Volume\", \"Number of Trades\",\n",
    "                  \"Taker Buy Base Asset Volume\", \"Taker Buy Quote Asset Volume\", \"Ignore\", \"Date\"]\n",
    "    df = df[[\"Date\", \"Open\", \"High\", \"Low\", \"Close\", \"Volume\"]].copy()\n",
    "    df.set_index(\"Date\", inplace = True)\n",
    "    for column in df.columns:\n",
    "        df[column] = pd.to_numeric(df[column], errors = \"coerce\")\n",
    "    \n",
    "    return df"
   ]
  },
  {
   "cell_type": "code",
   "execution_count": 71,
   "id": "ae228deb",
   "metadata": {},
   "outputs": [
    {
     "data": {
      "text/html": [
       "<div>\n",
       "<style scoped>\n",
       "    .dataframe tbody tr th:only-of-type {\n",
       "        vertical-align: middle;\n",
       "    }\n",
       "\n",
       "    .dataframe tbody tr th {\n",
       "        vertical-align: top;\n",
       "    }\n",
       "\n",
       "    .dataframe thead th {\n",
       "        text-align: right;\n",
       "    }\n",
       "</style>\n",
       "<table border=\"1\" class=\"dataframe\">\n",
       "  <thead>\n",
       "    <tr style=\"text-align: right;\">\n",
       "      <th></th>\n",
       "      <th>Open</th>\n",
       "      <th>High</th>\n",
       "      <th>Low</th>\n",
       "      <th>Close</th>\n",
       "      <th>Volume</th>\n",
       "    </tr>\n",
       "    <tr>\n",
       "      <th>Date</th>\n",
       "      <th></th>\n",
       "      <th></th>\n",
       "      <th></th>\n",
       "      <th></th>\n",
       "      <th></th>\n",
       "    </tr>\n",
       "  </thead>\n",
       "  <tbody>\n",
       "    <tr>\n",
       "      <th>2022-08-05 11:00:00</th>\n",
       "      <td>23671.60</td>\n",
       "      <td>23686.60</td>\n",
       "      <td>19182.70</td>\n",
       "      <td>23405.20</td>\n",
       "      <td>27.578515</td>\n",
       "    </tr>\n",
       "    <tr>\n",
       "      <th>2022-08-05 12:00:00</th>\n",
       "      <td>23405.20</td>\n",
       "      <td>25000.00</td>\n",
       "      <td>22928.00</td>\n",
       "      <td>23016.93</td>\n",
       "      <td>402.243046</td>\n",
       "    </tr>\n",
       "    <tr>\n",
       "      <th>2022-08-05 13:00:00</th>\n",
       "      <td>23016.93</td>\n",
       "      <td>23096.73</td>\n",
       "      <td>22883.98</td>\n",
       "      <td>23042.66</td>\n",
       "      <td>361.783085</td>\n",
       "    </tr>\n",
       "    <tr>\n",
       "      <th>2022-08-05 14:00:00</th>\n",
       "      <td>23053.22</td>\n",
       "      <td>23351.32</td>\n",
       "      <td>23027.84</td>\n",
       "      <td>23175.98</td>\n",
       "      <td>362.462506</td>\n",
       "    </tr>\n",
       "    <tr>\n",
       "      <th>2022-08-05 15:00:00</th>\n",
       "      <td>23177.08</td>\n",
       "      <td>23193.95</td>\n",
       "      <td>22959.91</td>\n",
       "      <td>22990.57</td>\n",
       "      <td>376.445199</td>\n",
       "    </tr>\n",
       "    <tr>\n",
       "      <th>...</th>\n",
       "      <td>...</td>\n",
       "      <td>...</td>\n",
       "      <td>...</td>\n",
       "      <td>...</td>\n",
       "      <td>...</td>\n",
       "    </tr>\n",
       "    <tr>\n",
       "      <th>2022-08-26 16:00:00</th>\n",
       "      <td>20775.01</td>\n",
       "      <td>20833.71</td>\n",
       "      <td>20461.46</td>\n",
       "      <td>20722.99</td>\n",
       "      <td>420.060657</td>\n",
       "    </tr>\n",
       "    <tr>\n",
       "      <th>2022-08-26 17:00:00</th>\n",
       "      <td>20721.93</td>\n",
       "      <td>20876.31</td>\n",
       "      <td>20367.16</td>\n",
       "      <td>20647.68</td>\n",
       "      <td>364.590171</td>\n",
       "    </tr>\n",
       "    <tr>\n",
       "      <th>2022-08-26 18:00:00</th>\n",
       "      <td>20647.64</td>\n",
       "      <td>20726.33</td>\n",
       "      <td>20327.74</td>\n",
       "      <td>20692.59</td>\n",
       "      <td>366.248548</td>\n",
       "    </tr>\n",
       "    <tr>\n",
       "      <th>2022-08-26 19:00:00</th>\n",
       "      <td>20692.59</td>\n",
       "      <td>20731.62</td>\n",
       "      <td>20619.68</td>\n",
       "      <td>20643.58</td>\n",
       "      <td>340.702911</td>\n",
       "    </tr>\n",
       "    <tr>\n",
       "      <th>2022-08-26 20:00:00</th>\n",
       "      <td>20644.46</td>\n",
       "      <td>20747.12</td>\n",
       "      <td>20642.29</td>\n",
       "      <td>20708.51</td>\n",
       "      <td>179.119092</td>\n",
       "    </tr>\n",
       "  </tbody>\n",
       "</table>\n",
       "<p>514 rows × 5 columns</p>\n",
       "</div>"
      ],
      "text/plain": [
       "                         Open      High       Low     Close      Volume\n",
       "Date                                                                   \n",
       "2022-08-05 11:00:00  23671.60  23686.60  19182.70  23405.20   27.578515\n",
       "2022-08-05 12:00:00  23405.20  25000.00  22928.00  23016.93  402.243046\n",
       "2022-08-05 13:00:00  23016.93  23096.73  22883.98  23042.66  361.783085\n",
       "2022-08-05 14:00:00  23053.22  23351.32  23027.84  23175.98  362.462506\n",
       "2022-08-05 15:00:00  23177.08  23193.95  22959.91  22990.57  376.445199\n",
       "...                       ...       ...       ...       ...         ...\n",
       "2022-08-26 16:00:00  20775.01  20833.71  20461.46  20722.99  420.060657\n",
       "2022-08-26 17:00:00  20721.93  20876.31  20367.16  20647.68  364.590171\n",
       "2022-08-26 18:00:00  20647.64  20726.33  20327.74  20692.59  366.248548\n",
       "2022-08-26 19:00:00  20692.59  20731.62  20619.68  20643.58  340.702911\n",
       "2022-08-26 20:00:00  20644.46  20747.12  20642.29  20708.51  179.119092\n",
       "\n",
       "[514 rows x 5 columns]"
      ]
     },
     "execution_count": 71,
     "metadata": {},
     "output_type": "execute_result"
    }
   ],
   "source": [
    "df = get_history(symbol = \"BTCUSDT\", interval = '1h', start = timestamp)\n",
    "df"
   ]
  },
  {
   "cell_type": "code",
   "execution_count": 66,
   "id": "c1719074",
   "metadata": {},
   "outputs": [
    {
     "data": {
      "text/html": [
       "<div>\n",
       "<style scoped>\n",
       "    .dataframe tbody tr th:only-of-type {\n",
       "        vertical-align: middle;\n",
       "    }\n",
       "\n",
       "    .dataframe tbody tr th {\n",
       "        vertical-align: top;\n",
       "    }\n",
       "\n",
       "    .dataframe thead th {\n",
       "        text-align: right;\n",
       "    }\n",
       "</style>\n",
       "<table border=\"1\" class=\"dataframe\">\n",
       "  <thead>\n",
       "    <tr style=\"text-align: right;\">\n",
       "      <th></th>\n",
       "      <th>Open</th>\n",
       "      <th>High</th>\n",
       "      <th>Low</th>\n",
       "      <th>Close</th>\n",
       "      <th>Volume</th>\n",
       "    </tr>\n",
       "    <tr>\n",
       "      <th>Date</th>\n",
       "      <th></th>\n",
       "      <th></th>\n",
       "      <th></th>\n",
       "      <th></th>\n",
       "      <th></th>\n",
       "    </tr>\n",
       "  </thead>\n",
       "  <tbody>\n",
       "    <tr>\n",
       "      <th>2022-08-05 11:00:00</th>\n",
       "      <td>23671.60</td>\n",
       "      <td>23686.60</td>\n",
       "      <td>19182.70</td>\n",
       "      <td>23405.20</td>\n",
       "      <td>27.578515</td>\n",
       "    </tr>\n",
       "    <tr>\n",
       "      <th>2022-08-05 12:00:00</th>\n",
       "      <td>23405.20</td>\n",
       "      <td>25000.00</td>\n",
       "      <td>22928.00</td>\n",
       "      <td>23016.93</td>\n",
       "      <td>402.243046</td>\n",
       "    </tr>\n",
       "    <tr>\n",
       "      <th>2022-08-05 13:00:00</th>\n",
       "      <td>23016.93</td>\n",
       "      <td>23096.73</td>\n",
       "      <td>22883.98</td>\n",
       "      <td>23042.66</td>\n",
       "      <td>361.783085</td>\n",
       "    </tr>\n",
       "    <tr>\n",
       "      <th>2022-08-05 14:00:00</th>\n",
       "      <td>23053.22</td>\n",
       "      <td>23351.32</td>\n",
       "      <td>23027.84</td>\n",
       "      <td>23175.98</td>\n",
       "      <td>362.462506</td>\n",
       "    </tr>\n",
       "    <tr>\n",
       "      <th>2022-08-05 15:00:00</th>\n",
       "      <td>23177.08</td>\n",
       "      <td>23193.95</td>\n",
       "      <td>22959.91</td>\n",
       "      <td>22990.57</td>\n",
       "      <td>376.445199</td>\n",
       "    </tr>\n",
       "    <tr>\n",
       "      <th>...</th>\n",
       "      <td>...</td>\n",
       "      <td>...</td>\n",
       "      <td>...</td>\n",
       "      <td>...</td>\n",
       "      <td>...</td>\n",
       "    </tr>\n",
       "    <tr>\n",
       "      <th>2022-08-26 11:00:00</th>\n",
       "      <td>21394.13</td>\n",
       "      <td>21524.28</td>\n",
       "      <td>20081.35</td>\n",
       "      <td>21190.13</td>\n",
       "      <td>488.256344</td>\n",
       "    </tr>\n",
       "    <tr>\n",
       "      <th>2022-08-26 12:00:00</th>\n",
       "      <td>21190.11</td>\n",
       "      <td>21676.85</td>\n",
       "      <td>21160.00</td>\n",
       "      <td>21642.89</td>\n",
       "      <td>420.254376</td>\n",
       "    </tr>\n",
       "    <tr>\n",
       "      <th>2022-08-26 13:00:00</th>\n",
       "      <td>21641.12</td>\n",
       "      <td>21857.14</td>\n",
       "      <td>21635.60</td>\n",
       "      <td>21753.41</td>\n",
       "      <td>421.334828</td>\n",
       "    </tr>\n",
       "    <tr>\n",
       "      <th>2022-08-26 14:00:00</th>\n",
       "      <td>21754.99</td>\n",
       "      <td>21768.56</td>\n",
       "      <td>21156.45</td>\n",
       "      <td>21167.18</td>\n",
       "      <td>514.266398</td>\n",
       "    </tr>\n",
       "    <tr>\n",
       "      <th>2022-08-26 15:00:00</th>\n",
       "      <td>21166.63</td>\n",
       "      <td>21167.18</td>\n",
       "      <td>20608.75</td>\n",
       "      <td>20842.79</td>\n",
       "      <td>267.272132</td>\n",
       "    </tr>\n",
       "  </tbody>\n",
       "</table>\n",
       "<p>509 rows × 5 columns</p>\n",
       "</div>"
      ],
      "text/plain": [
       "                         Open      High       Low     Close      Volume\n",
       "Date                                                                   \n",
       "2022-08-05 11:00:00  23671.60  23686.60  19182.70  23405.20   27.578515\n",
       "2022-08-05 12:00:00  23405.20  25000.00  22928.00  23016.93  402.243046\n",
       "2022-08-05 13:00:00  23016.93  23096.73  22883.98  23042.66  361.783085\n",
       "2022-08-05 14:00:00  23053.22  23351.32  23027.84  23175.98  362.462506\n",
       "2022-08-05 15:00:00  23177.08  23193.95  22959.91  22990.57  376.445199\n",
       "...                       ...       ...       ...       ...         ...\n",
       "2022-08-26 11:00:00  21394.13  21524.28  20081.35  21190.13  488.256344\n",
       "2022-08-26 12:00:00  21190.11  21676.85  21160.00  21642.89  420.254376\n",
       "2022-08-26 13:00:00  21641.12  21857.14  21635.60  21753.41  421.334828\n",
       "2022-08-26 14:00:00  21754.99  21768.56  21156.45  21167.18  514.266398\n",
       "2022-08-26 15:00:00  21166.63  21167.18  20608.75  20842.79  267.272132\n",
       "\n",
       "[509 rows x 5 columns]"
      ]
     },
     "execution_count": 66,
     "metadata": {},
     "output_type": "execute_result"
    }
   ],
   "source": [
    "df = get_history(symbol = \"BTCUSDT\", interval = '1h', start = '2021-09-15')\n",
    "df\n",
    "# this is an example of spotnet limitation, the start date is 1+ year ago\n",
    "# but we still see only data that goes back one month prior"
   ]
  },
  {
   "cell_type": "code",
   "execution_count": 72,
   "id": "6d5c8157",
   "metadata": {},
   "outputs": [],
   "source": [
    "from binance import ThreadedWebsocketManager"
   ]
  },
  {
   "cell_type": "code",
   "execution_count": 73,
   "id": "00618024",
   "metadata": {},
   "outputs": [],
   "source": [
    "def stream_data(msg):\n",
    "    ''' define how you want to process incoming WebSocket messages '''\n",
    "    time = pd.to_datetime(msg['E'], unit = 'ms')\n",
    "    price = msg['c']\n",
    "    \n",
    "    print(\"Time: {} | Price: {}\".format(time, price))"
   ]
  },
  {
   "cell_type": "code",
   "execution_count": 75,
   "id": "1d02a98f",
   "metadata": {},
   "outputs": [],
   "source": [
    "twm = ThreadedWebsocketManager()\n",
    "twm.start()"
   ]
  },
  {
   "cell_type": "code",
   "execution_count": 76,
   "id": "bd978bbd",
   "metadata": {},
   "outputs": [
    {
     "data": {
      "text/plain": [
       "'btcusdt@miniTicker'"
      ]
     },
     "execution_count": 76,
     "metadata": {},
     "output_type": "execute_result"
    },
    {
     "name": "stdout",
     "output_type": "stream",
     "text": [
      "Time: 2022-08-26 20:39:27.804000 | Price: 20696.03000000\n",
      "Time: 2022-08-26 20:39:28.841000 | Price: 20695.39000000\n",
      "Time: 2022-08-26 20:39:29.789000 | Price: 20694.42000000\n",
      "Time: 2022-08-26 20:39:30.824000 | Price: 20694.98000000\n",
      "Time: 2022-08-26 20:39:31.866000 | Price: 20695.02000000\n",
      "Time: 2022-08-26 20:39:32.825000 | Price: 20694.86000000\n",
      "Time: 2022-08-26 20:39:33.858000 | Price: 20694.29000000\n",
      "Time: 2022-08-26 20:39:34.877000 | Price: 20689.21000000\n",
      "Time: 2022-08-26 20:39:35.775000 | Price: 20689.53000000\n",
      "Time: 2022-08-26 20:39:36.868000 | Price: 20689.06000000\n",
      "Time: 2022-08-26 20:39:37.741000 | Price: 20690.80000000\n",
      "Time: 2022-08-26 20:39:38.711000 | Price: 20689.76000000\n",
      "Time: 2022-08-26 20:39:39.679000 | Price: 20689.10000000\n",
      "Time: 2022-08-26 20:39:40.858000 | Price: 20688.57000000\n",
      "Time: 2022-08-26 20:39:41.875000 | Price: 20689.77000000\n",
      "Time: 2022-08-26 20:39:42.668000 | Price: 20689.10000000\n",
      "Time: 2022-08-26 20:39:43.832000 | Price: 20690.35000000\n"
     ]
    }
   ],
   "source": [
    "twm.start_symbol_miniticker_socket(callback = stream_data, symbol = 'BTCUSDT')"
   ]
  },
  {
   "cell_type": "code",
   "execution_count": 77,
   "id": "abe98dcb",
   "metadata": {},
   "outputs": [
    {
     "name": "stdout",
     "output_type": "stream",
     "text": [
      "Time: 2022-08-26 20:39:44.863000 | Price: 20689.77000000\n"
     ]
    },
    {
     "name": "stderr",
     "output_type": "stream",
     "text": [
      "CANCEL read_loop\n"
     ]
    }
   ],
   "source": [
    "twm.stop()"
   ]
  },
  {
   "cell_type": "markdown",
   "id": "445248b0",
   "metadata": {},
   "source": [
    "# Placing a Market Buy Order"
   ]
  },
  {
   "cell_type": "code",
   "execution_count": 79,
   "id": "ed11dcd0",
   "metadata": {},
   "outputs": [],
   "source": [
    "# buy 0.1 BTC\n",
    "order = client.create_order(symbol = 'BTCUSDT', side = 'BUY', type = 'MARKET', quantity = 0.1)"
   ]
  },
  {
   "cell_type": "code",
   "execution_count": 80,
   "id": "831d002e",
   "metadata": {},
   "outputs": [
    {
     "data": {
      "text/plain": [
       "{'symbol': 'BTCUSDT',\n",
       " 'orderId': 12346682,\n",
       " 'orderListId': -1,\n",
       " 'clientOrderId': '7a6emdBmYoIPn18cbUbjR1',\n",
       " 'transactTime': 1661546581156,\n",
       " 'price': '0.00000000',\n",
       " 'origQty': '0.10000000',\n",
       " 'executedQty': '0.10000000',\n",
       " 'cummulativeQuoteQty': '2066.86559802',\n",
       " 'status': 'FILLED',\n",
       " 'timeInForce': 'GTC',\n",
       " 'type': 'MARKET',\n",
       " 'side': 'BUY',\n",
       " 'fills': [{'price': '20668.65000000',\n",
       "   'qty': '0.04019800',\n",
       "   'commission': '0.00000000',\n",
       "   'commissionAsset': 'BTC',\n",
       "   'tradeId': 3713544},\n",
       "  {'price': '20668.66000000',\n",
       "   'qty': '0.05980200',\n",
       "   'commission': '0.00000000',\n",
       "   'commissionAsset': 'BTC',\n",
       "   'tradeId': 3713545}]}"
      ]
     },
     "execution_count": 80,
     "metadata": {},
     "output_type": "execute_result"
    }
   ],
   "source": [
    "order"
   ]
  },
  {
   "cell_type": "code",
   "execution_count": 82,
   "id": "6e90dff8",
   "metadata": {},
   "outputs": [
    {
     "data": {
      "text/plain": [
       "{'makerCommission': 0,\n",
       " 'takerCommission': 0,\n",
       " 'buyerCommission': 0,\n",
       " 'sellerCommission': 0,\n",
       " 'canTrade': True,\n",
       " 'canWithdraw': False,\n",
       " 'canDeposit': False,\n",
       " 'brokered': False,\n",
       " 'updateTime': 1661546581156,\n",
       " 'accountType': 'SPOT',\n",
       " 'balances': [{'asset': 'BNB',\n",
       "   'free': '1000.00000000',\n",
       "   'locked': '0.00000000'},\n",
       "  {'asset': 'BTC', 'free': '1.10000000', 'locked': '0.00000000'},\n",
       "  {'asset': 'BUSD', 'free': '10000.00000000', 'locked': '0.00000000'},\n",
       "  {'asset': 'ETH', 'free': '100.00000000', 'locked': '0.00000000'},\n",
       "  {'asset': 'LTC', 'free': '500.00000000', 'locked': '0.00000000'},\n",
       "  {'asset': 'TRX', 'free': '500000.00000000', 'locked': '0.00000000'},\n",
       "  {'asset': 'USDT', 'free': '7933.13440198', 'locked': '0.00000000'},\n",
       "  {'asset': 'XRP', 'free': '50000.00000000', 'locked': '0.00000000'}],\n",
       " 'permissions': ['SPOT']}"
      ]
     },
     "execution_count": 82,
     "metadata": {},
     "output_type": "execute_result"
    }
   ],
   "source": [
    "client.get_account()"
   ]
  },
  {
   "cell_type": "code",
   "execution_count": 83,
   "id": "b29c9a06",
   "metadata": {},
   "outputs": [
    {
     "data": {
      "text/html": [
       "<div>\n",
       "<style scoped>\n",
       "    .dataframe tbody tr th:only-of-type {\n",
       "        vertical-align: middle;\n",
       "    }\n",
       "\n",
       "    .dataframe tbody tr th {\n",
       "        vertical-align: top;\n",
       "    }\n",
       "\n",
       "    .dataframe thead th {\n",
       "        text-align: right;\n",
       "    }\n",
       "</style>\n",
       "<table border=\"1\" class=\"dataframe\">\n",
       "  <thead>\n",
       "    <tr style=\"text-align: right;\">\n",
       "      <th></th>\n",
       "      <th>price</th>\n",
       "      <th>qty</th>\n",
       "      <th>commission</th>\n",
       "      <th>commissionAsset</th>\n",
       "      <th>tradeId</th>\n",
       "    </tr>\n",
       "  </thead>\n",
       "  <tbody>\n",
       "    <tr>\n",
       "      <th>0</th>\n",
       "      <td>20668.65000000</td>\n",
       "      <td>0.04019800</td>\n",
       "      <td>0.00000000</td>\n",
       "      <td>BTC</td>\n",
       "      <td>3713544</td>\n",
       "    </tr>\n",
       "    <tr>\n",
       "      <th>1</th>\n",
       "      <td>20668.66000000</td>\n",
       "      <td>0.05980200</td>\n",
       "      <td>0.00000000</td>\n",
       "      <td>BTC</td>\n",
       "      <td>3713545</td>\n",
       "    </tr>\n",
       "  </tbody>\n",
       "</table>\n",
       "</div>"
      ],
      "text/plain": [
       "            price         qty  commission commissionAsset  tradeId\n",
       "0  20668.65000000  0.04019800  0.00000000             BTC  3713544\n",
       "1  20668.66000000  0.05980200  0.00000000             BTC  3713545"
      ]
     },
     "execution_count": 83,
     "metadata": {},
     "output_type": "execute_result"
    }
   ],
   "source": [
    "df = pd.DataFrame(order['fills'])\n",
    "df"
   ]
  },
  {
   "cell_type": "code",
   "execution_count": 84,
   "id": "56876716",
   "metadata": {},
   "outputs": [
    {
     "name": "stdout",
     "output_type": "stream",
     "text": [
      "<class 'pandas.core.frame.DataFrame'>\n",
      "RangeIndex: 2 entries, 0 to 1\n",
      "Data columns (total 5 columns):\n",
      " #   Column           Non-Null Count  Dtype \n",
      "---  ------           --------------  ----- \n",
      " 0   price            2 non-null      object\n",
      " 1   qty              2 non-null      object\n",
      " 2   commission       2 non-null      object\n",
      " 3   commissionAsset  2 non-null      object\n",
      " 4   tradeId          2 non-null      int64 \n",
      "dtypes: int64(1), object(4)\n",
      "memory usage: 208.0+ bytes\n"
     ]
    }
   ],
   "source": [
    "df.info()"
   ]
  },
  {
   "cell_type": "code",
   "execution_count": 86,
   "id": "3307bcc0",
   "metadata": {},
   "outputs": [],
   "source": [
    "num_columns = ['price', 'qty', 'commission']\n",
    "for column in num_columns:\n",
    "    df[column] = pd.to_numeric(df[column], errors = 'coerce')"
   ]
  },
  {
   "cell_type": "code",
   "execution_count": 88,
   "id": "6ee99cd3",
   "metadata": {},
   "outputs": [
    {
     "name": "stdout",
     "output_type": "stream",
     "text": [
      "<class 'pandas.core.frame.DataFrame'>\n",
      "RangeIndex: 2 entries, 0 to 1\n",
      "Data columns (total 5 columns):\n",
      " #   Column           Non-Null Count  Dtype  \n",
      "---  ------           --------------  -----  \n",
      " 0   price            2 non-null      float64\n",
      " 1   qty              2 non-null      float64\n",
      " 2   commission       2 non-null      float64\n",
      " 3   commissionAsset  2 non-null      object \n",
      " 4   tradeId          2 non-null      int64  \n",
      "dtypes: float64(3), int64(1), object(1)\n",
      "memory usage: 208.0+ bytes\n"
     ]
    }
   ],
   "source": [
    "df.info()"
   ]
  },
  {
   "cell_type": "code",
   "execution_count": 89,
   "id": "b279c648",
   "metadata": {},
   "outputs": [
    {
     "data": {
      "text/plain": [
       "0.1"
      ]
     },
     "execution_count": 89,
     "metadata": {},
     "output_type": "execute_result"
    }
   ],
   "source": [
    "df.qty.sum()"
   ]
  },
  {
   "cell_type": "code",
   "execution_count": 90,
   "id": "d05d3923",
   "metadata": {},
   "outputs": [
    {
     "data": {
      "text/plain": [
       "2066.86559802"
      ]
     },
     "execution_count": 90,
     "metadata": {},
     "output_type": "execute_result"
    }
   ],
   "source": [
    "df.price.mul(df.qty).sum()"
   ]
  },
  {
   "cell_type": "code",
   "execution_count": 91,
   "id": "aa61752d",
   "metadata": {},
   "outputs": [
    {
     "data": {
      "text/plain": [
       "{'makerCommission': 0,\n",
       " 'takerCommission': 0,\n",
       " 'buyerCommission': 0,\n",
       " 'sellerCommission': 0,\n",
       " 'canTrade': True,\n",
       " 'canWithdraw': False,\n",
       " 'canDeposit': False,\n",
       " 'brokered': False,\n",
       " 'updateTime': 1661546581156,\n",
       " 'accountType': 'SPOT',\n",
       " 'balances': [{'asset': 'BNB',\n",
       "   'free': '1000.00000000',\n",
       "   'locked': '0.00000000'},\n",
       "  {'asset': 'BTC', 'free': '1.10000000', 'locked': '0.00000000'},\n",
       "  {'asset': 'BUSD', 'free': '10000.00000000', 'locked': '0.00000000'},\n",
       "  {'asset': 'ETH', 'free': '100.00000000', 'locked': '0.00000000'},\n",
       "  {'asset': 'LTC', 'free': '500.00000000', 'locked': '0.00000000'},\n",
       "  {'asset': 'TRX', 'free': '500000.00000000', 'locked': '0.00000000'},\n",
       "  {'asset': 'USDT', 'free': '7933.13440198', 'locked': '0.00000000'},\n",
       "  {'asset': 'XRP', 'free': '50000.00000000', 'locked': '0.00000000'}],\n",
       " 'permissions': ['SPOT']}"
      ]
     },
     "execution_count": 91,
     "metadata": {},
     "output_type": "execute_result"
    }
   ],
   "source": [
    "client.get_account()"
   ]
  },
  {
   "cell_type": "code",
   "execution_count": 92,
   "id": "c5d9d4dd",
   "metadata": {},
   "outputs": [],
   "source": [
    "# or if you want to buy btc in terms of usd\n",
    "order = client.create_order(symbol = 'BTCUSDT', side = 'BUY', type = 'MARKET', quoteOrderQty = 1000)"
   ]
  },
  {
   "cell_type": "code",
   "execution_count": 93,
   "id": "632b4e2d",
   "metadata": {},
   "outputs": [
    {
     "data": {
      "text/plain": [
       "{'symbol': 'BTCUSDT',\n",
       " 'orderId': 12356343,\n",
       " 'orderListId': -1,\n",
       " 'clientOrderId': 'hcgeKqgbHXPxUA1FoE5Ocd',\n",
       " 'transactTime': 1661548484479,\n",
       " 'price': '0.00000000',\n",
       " 'origQty': '0.04840200',\n",
       " 'executedQty': '0.04840200',\n",
       " 'cummulativeQuoteQty': '999.98289990',\n",
       " 'status': 'FILLED',\n",
       " 'timeInForce': 'GTC',\n",
       " 'type': 'MARKET',\n",
       " 'side': 'BUY',\n",
       " 'fills': [{'price': '20659.95000000',\n",
       "   'qty': '0.04840200',\n",
       "   'commission': '0.00000000',\n",
       "   'commissionAsset': 'BTC',\n",
       "   'tradeId': 3716881}]}"
      ]
     },
     "execution_count": 93,
     "metadata": {},
     "output_type": "execute_result"
    }
   ],
   "source": [
    "order"
   ]
  },
  {
   "cell_type": "code",
   "execution_count": 96,
   "id": "0e122421",
   "metadata": {},
   "outputs": [
    {
     "data": {
      "text/plain": [
       "20659.95"
      ]
     },
     "execution_count": 96,
     "metadata": {},
     "output_type": "execute_result"
    }
   ],
   "source": [
    "avr_price = float(order['cummulativeQuoteQty']) / float(order['origQty'])\n",
    "avr_price"
   ]
  },
  {
   "cell_type": "code",
   "execution_count": 97,
   "id": "5c5d73c6",
   "metadata": {},
   "outputs": [
    {
     "data": {
      "text/plain": [
       "{'makerCommission': 0,\n",
       " 'takerCommission': 0,\n",
       " 'buyerCommission': 0,\n",
       " 'sellerCommission': 0,\n",
       " 'canTrade': True,\n",
       " 'canWithdraw': False,\n",
       " 'canDeposit': False,\n",
       " 'brokered': False,\n",
       " 'updateTime': 1661548484479,\n",
       " 'accountType': 'SPOT',\n",
       " 'balances': [{'asset': 'BNB',\n",
       "   'free': '1000.00000000',\n",
       "   'locked': '0.00000000'},\n",
       "  {'asset': 'BTC', 'free': '1.14840200', 'locked': '0.00000000'},\n",
       "  {'asset': 'BUSD', 'free': '10000.00000000', 'locked': '0.00000000'},\n",
       "  {'asset': 'ETH', 'free': '100.00000000', 'locked': '0.00000000'},\n",
       "  {'asset': 'LTC', 'free': '500.00000000', 'locked': '0.00000000'},\n",
       "  {'asset': 'TRX', 'free': '500000.00000000', 'locked': '0.00000000'},\n",
       "  {'asset': 'USDT', 'free': '6933.15150208', 'locked': '0.00000000'},\n",
       "  {'asset': 'XRP', 'free': '50000.00000000', 'locked': '0.00000000'}],\n",
       " 'permissions': ['SPOT']}"
      ]
     },
     "execution_count": 97,
     "metadata": {},
     "output_type": "execute_result"
    }
   ],
   "source": [
    "client.get_account()"
   ]
  },
  {
   "cell_type": "markdown",
   "id": "3bd7cb92",
   "metadata": {},
   "source": [
    "# Placing a Market Sell Order"
   ]
  },
  {
   "cell_type": "code",
   "execution_count": 98,
   "id": "c93b69a1",
   "metadata": {},
   "outputs": [],
   "source": [
    "# selling 0.1 BTC\n",
    "order = client.create_order(symbol = 'BTCUSDT', side = 'SELL', type = 'MARKET', quantity = 0.1)"
   ]
  },
  {
   "cell_type": "code",
   "execution_count": 99,
   "id": "36dae4ca",
   "metadata": {},
   "outputs": [
    {
     "data": {
      "text/plain": [
       "{'symbol': 'BTCUSDT',\n",
       " 'orderId': 12357696,\n",
       " 'orderListId': -1,\n",
       " 'clientOrderId': 'OUbl1YsTP35AanCm4YTjzl',\n",
       " 'transactTime': 1661548726678,\n",
       " 'price': '0.00000000',\n",
       " 'origQty': '0.10000000',\n",
       " 'executedQty': '0.10000000',\n",
       " 'cummulativeQuoteQty': '2066.20458397',\n",
       " 'status': 'FILLED',\n",
       " 'timeInForce': 'GTC',\n",
       " 'type': 'MARKET',\n",
       " 'side': 'SELL',\n",
       " 'fills': [{'price': '20662.05000000',\n",
       "   'qty': '0.05839700',\n",
       "   'commission': '0.00000000',\n",
       "   'commissionAsset': 'USDT',\n",
       "   'tradeId': 3717399},\n",
       "  {'price': '20662.04000000',\n",
       "   'qty': '0.04160300',\n",
       "   'commission': '0.00000000',\n",
       "   'commissionAsset': 'USDT',\n",
       "   'tradeId': 3717400}]}"
      ]
     },
     "execution_count": 99,
     "metadata": {},
     "output_type": "execute_result"
    }
   ],
   "source": [
    "order"
   ]
  },
  {
   "cell_type": "code",
   "execution_count": 100,
   "id": "d1cb3e9b",
   "metadata": {},
   "outputs": [
    {
     "data": {
      "text/plain": [
       "{'makerCommission': 0,\n",
       " 'takerCommission': 0,\n",
       " 'buyerCommission': 0,\n",
       " 'sellerCommission': 0,\n",
       " 'canTrade': True,\n",
       " 'canWithdraw': False,\n",
       " 'canDeposit': False,\n",
       " 'brokered': False,\n",
       " 'updateTime': 1661548726678,\n",
       " 'accountType': 'SPOT',\n",
       " 'balances': [{'asset': 'BNB',\n",
       "   'free': '1000.00000000',\n",
       "   'locked': '0.00000000'},\n",
       "  {'asset': 'BTC', 'free': '1.04840200', 'locked': '0.00000000'},\n",
       "  {'asset': 'BUSD', 'free': '10000.00000000', 'locked': '0.00000000'},\n",
       "  {'asset': 'ETH', 'free': '100.00000000', 'locked': '0.00000000'},\n",
       "  {'asset': 'LTC', 'free': '500.00000000', 'locked': '0.00000000'},\n",
       "  {'asset': 'TRX', 'free': '500000.00000000', 'locked': '0.00000000'},\n",
       "  {'asset': 'USDT', 'free': '8999.35608605', 'locked': '0.00000000'},\n",
       "  {'asset': 'XRP', 'free': '50000.00000000', 'locked': '0.00000000'}],\n",
       " 'permissions': ['SPOT']}"
      ]
     },
     "execution_count": 100,
     "metadata": {},
     "output_type": "execute_result"
    }
   ],
   "source": [
    "client.get_account()"
   ]
  },
  {
   "cell_type": "markdown",
   "id": "b1be0c14",
   "metadata": {},
   "source": [
    "# Placing Limit Orders"
   ]
  },
  {
   "cell_type": "markdown",
   "id": "7960b707",
   "metadata": {},
   "source": [
    "## Limit Buy Order"
   ]
  },
  {
   "cell_type": "code",
   "execution_count": 101,
   "id": "9c6fa380",
   "metadata": {},
   "outputs": [
    {
     "data": {
      "text/plain": [
       "{'symbol': 'BTCUSDT', 'price': '20642.59000000'}"
      ]
     },
     "execution_count": 101,
     "metadata": {},
     "output_type": "execute_result"
    }
   ],
   "source": [
    "client.get_symbol_ticker(symbol = 'BTCUSDT')"
   ]
  },
  {
   "cell_type": "code",
   "execution_count": 103,
   "id": "8bb78b4f",
   "metadata": {},
   "outputs": [],
   "source": [
    "# Limit Buy Order\n",
    "\n",
    "# GTC means good till canceled\n",
    "\n",
    "order1 = client.create_order(symbol = 'BTCUSDT', side = 'BUY', type = 'LIMIT', quantity = 0.1, timeInForce = 'GTC',\n",
    "                            price = 20000)"
   ]
  },
  {
   "cell_type": "code",
   "execution_count": 105,
   "id": "36e6f424",
   "metadata": {},
   "outputs": [
    {
     "data": {
      "text/plain": [
       "{'symbol': 'BTCUSDT',\n",
       " 'orderId': 12358953,\n",
       " 'orderListId': -1,\n",
       " 'clientOrderId': 'fUeOqiDbHcCGMpEkAfvKYR',\n",
       " 'transactTime': 1661548993027,\n",
       " 'price': '20000.00000000',\n",
       " 'origQty': '0.10000000',\n",
       " 'executedQty': '0.00000000',\n",
       " 'cummulativeQuoteQty': '0.00000000',\n",
       " 'status': 'NEW',\n",
       " 'timeInForce': 'GTC',\n",
       " 'type': 'LIMIT',\n",
       " 'side': 'BUY',\n",
       " 'fills': []}"
      ]
     },
     "execution_count": 105,
     "metadata": {},
     "output_type": "execute_result"
    }
   ],
   "source": [
    "order1"
   ]
  },
  {
   "cell_type": "code",
   "execution_count": 107,
   "id": "2fe228c3",
   "metadata": {},
   "outputs": [
    {
     "data": {
      "text/plain": [
       "12358953"
      ]
     },
     "execution_count": 107,
     "metadata": {},
     "output_type": "execute_result"
    }
   ],
   "source": [
    "order_id_buy = order1['orderId']\n",
    "order_id_buy"
   ]
  },
  {
   "cell_type": "code",
   "execution_count": 109,
   "id": "65e5187d",
   "metadata": {},
   "outputs": [
    {
     "data": {
      "text/plain": [
       "{'symbol': 'BTCUSDT',\n",
       " 'orderId': 12358953,\n",
       " 'orderListId': -1,\n",
       " 'clientOrderId': 'fUeOqiDbHcCGMpEkAfvKYR',\n",
       " 'price': '20000.00000000',\n",
       " 'origQty': '0.10000000',\n",
       " 'executedQty': '0.00000000',\n",
       " 'cummulativeQuoteQty': '0.00000000',\n",
       " 'status': 'NEW',\n",
       " 'timeInForce': 'GTC',\n",
       " 'type': 'LIMIT',\n",
       " 'side': 'BUY',\n",
       " 'stopPrice': '0.00000000',\n",
       " 'icebergQty': '0.00000000',\n",
       " 'time': 1661548993027,\n",
       " 'updateTime': 1661548993027,\n",
       " 'isWorking': True,\n",
       " 'origQuoteOrderQty': '0.00000000'}"
      ]
     },
     "execution_count": 109,
     "metadata": {},
     "output_type": "execute_result"
    }
   ],
   "source": [
    "client.get_order(symbol = 'BTCUSDT', orderId = order_id_buy)"
   ]
  },
  {
   "cell_type": "code",
   "execution_count": 110,
   "id": "6bda51b5",
   "metadata": {},
   "outputs": [],
   "source": [
    "# Limit Sell Order\n",
    "# to sell at a more favorable price\n",
    "\n",
    "order2 = client.create_order(symbol = 'BTCUSDT', side = 'SELL', type = 'LIMIT', quantity = 0.1, timeInForce = 'GTC',\n",
    "                            price = 30000)"
   ]
  },
  {
   "cell_type": "code",
   "execution_count": 111,
   "id": "eff8a75c",
   "metadata": {},
   "outputs": [
    {
     "data": {
      "text/plain": [
       "{'symbol': 'BTCUSDT',\n",
       " 'orderId': 12359519,\n",
       " 'orderListId': -1,\n",
       " 'clientOrderId': 'ATjtRAR4Abjv0zp71zKcj8',\n",
       " 'transactTime': 1661549117237,\n",
       " 'price': '30000.00000000',\n",
       " 'origQty': '0.10000000',\n",
       " 'executedQty': '0.00000000',\n",
       " 'cummulativeQuoteQty': '0.00000000',\n",
       " 'status': 'NEW',\n",
       " 'timeInForce': 'GTC',\n",
       " 'type': 'LIMIT',\n",
       " 'side': 'SELL',\n",
       " 'fills': []}"
      ]
     },
     "execution_count": 111,
     "metadata": {},
     "output_type": "execute_result"
    }
   ],
   "source": [
    "order2"
   ]
  },
  {
   "cell_type": "code",
   "execution_count": 112,
   "id": "c746fad9",
   "metadata": {},
   "outputs": [],
   "source": [
    "order_id_sell = order2['orderId']"
   ]
  },
  {
   "cell_type": "code",
   "execution_count": 113,
   "id": "a515102a",
   "metadata": {},
   "outputs": [
    {
     "data": {
      "text/plain": [
       "12359519"
      ]
     },
     "execution_count": 113,
     "metadata": {},
     "output_type": "execute_result"
    }
   ],
   "source": [
    "order_id_sell"
   ]
  },
  {
   "cell_type": "code",
   "execution_count": 114,
   "id": "33c447ef",
   "metadata": {},
   "outputs": [
    {
     "data": {
      "text/plain": [
       "[{'symbol': 'BTCUSDT',\n",
       "  'orderId': 12358953,\n",
       "  'orderListId': -1,\n",
       "  'clientOrderId': 'fUeOqiDbHcCGMpEkAfvKYR',\n",
       "  'price': '20000.00000000',\n",
       "  'origQty': '0.10000000',\n",
       "  'executedQty': '0.00000000',\n",
       "  'cummulativeQuoteQty': '0.00000000',\n",
       "  'status': 'NEW',\n",
       "  'timeInForce': 'GTC',\n",
       "  'type': 'LIMIT',\n",
       "  'side': 'BUY',\n",
       "  'stopPrice': '0.00000000',\n",
       "  'icebergQty': '0.00000000',\n",
       "  'time': 1661548993027,\n",
       "  'updateTime': 1661548993027,\n",
       "  'isWorking': True,\n",
       "  'origQuoteOrderQty': '0.00000000'},\n",
       " {'symbol': 'BTCUSDT',\n",
       "  'orderId': 12359519,\n",
       "  'orderListId': -1,\n",
       "  'clientOrderId': 'ATjtRAR4Abjv0zp71zKcj8',\n",
       "  'price': '30000.00000000',\n",
       "  'origQty': '0.10000000',\n",
       "  'executedQty': '0.00000000',\n",
       "  'cummulativeQuoteQty': '0.00000000',\n",
       "  'status': 'NEW',\n",
       "  'timeInForce': 'GTC',\n",
       "  'type': 'LIMIT',\n",
       "  'side': 'SELL',\n",
       "  'stopPrice': '0.00000000',\n",
       "  'icebergQty': '0.00000000',\n",
       "  'time': 1661549117237,\n",
       "  'updateTime': 1661549117237,\n",
       "  'isWorking': True,\n",
       "  'origQuoteOrderQty': '0.00000000'}]"
      ]
     },
     "execution_count": 114,
     "metadata": {},
     "output_type": "execute_result"
    }
   ],
   "source": [
    "open_orders = client.get_open_orders(symbol = 'BTCUSDT')\n",
    "open_orders"
   ]
  },
  {
   "cell_type": "code",
   "execution_count": 115,
   "id": "1b717972",
   "metadata": {},
   "outputs": [
    {
     "data": {
      "text/html": [
       "<div>\n",
       "<style scoped>\n",
       "    .dataframe tbody tr th:only-of-type {\n",
       "        vertical-align: middle;\n",
       "    }\n",
       "\n",
       "    .dataframe tbody tr th {\n",
       "        vertical-align: top;\n",
       "    }\n",
       "\n",
       "    .dataframe thead th {\n",
       "        text-align: right;\n",
       "    }\n",
       "</style>\n",
       "<table border=\"1\" class=\"dataframe\">\n",
       "  <thead>\n",
       "    <tr style=\"text-align: right;\">\n",
       "      <th></th>\n",
       "      <th>symbol</th>\n",
       "      <th>orderId</th>\n",
       "      <th>orderListId</th>\n",
       "      <th>clientOrderId</th>\n",
       "      <th>price</th>\n",
       "      <th>origQty</th>\n",
       "      <th>executedQty</th>\n",
       "      <th>cummulativeQuoteQty</th>\n",
       "      <th>status</th>\n",
       "      <th>timeInForce</th>\n",
       "      <th>type</th>\n",
       "      <th>side</th>\n",
       "      <th>stopPrice</th>\n",
       "      <th>icebergQty</th>\n",
       "      <th>time</th>\n",
       "      <th>updateTime</th>\n",
       "      <th>isWorking</th>\n",
       "      <th>origQuoteOrderQty</th>\n",
       "    </tr>\n",
       "  </thead>\n",
       "  <tbody>\n",
       "    <tr>\n",
       "      <th>0</th>\n",
       "      <td>BTCUSDT</td>\n",
       "      <td>12358953</td>\n",
       "      <td>-1</td>\n",
       "      <td>fUeOqiDbHcCGMpEkAfvKYR</td>\n",
       "      <td>20000.00000000</td>\n",
       "      <td>0.10000000</td>\n",
       "      <td>0.00000000</td>\n",
       "      <td>0.00000000</td>\n",
       "      <td>NEW</td>\n",
       "      <td>GTC</td>\n",
       "      <td>LIMIT</td>\n",
       "      <td>BUY</td>\n",
       "      <td>0.00000000</td>\n",
       "      <td>0.00000000</td>\n",
       "      <td>1661548993027</td>\n",
       "      <td>1661548993027</td>\n",
       "      <td>True</td>\n",
       "      <td>0.00000000</td>\n",
       "    </tr>\n",
       "    <tr>\n",
       "      <th>1</th>\n",
       "      <td>BTCUSDT</td>\n",
       "      <td>12359519</td>\n",
       "      <td>-1</td>\n",
       "      <td>ATjtRAR4Abjv0zp71zKcj8</td>\n",
       "      <td>30000.00000000</td>\n",
       "      <td>0.10000000</td>\n",
       "      <td>0.00000000</td>\n",
       "      <td>0.00000000</td>\n",
       "      <td>NEW</td>\n",
       "      <td>GTC</td>\n",
       "      <td>LIMIT</td>\n",
       "      <td>SELL</td>\n",
       "      <td>0.00000000</td>\n",
       "      <td>0.00000000</td>\n",
       "      <td>1661549117237</td>\n",
       "      <td>1661549117237</td>\n",
       "      <td>True</td>\n",
       "      <td>0.00000000</td>\n",
       "    </tr>\n",
       "  </tbody>\n",
       "</table>\n",
       "</div>"
      ],
      "text/plain": [
       "    symbol   orderId  orderListId           clientOrderId           price  \\\n",
       "0  BTCUSDT  12358953           -1  fUeOqiDbHcCGMpEkAfvKYR  20000.00000000   \n",
       "1  BTCUSDT  12359519           -1  ATjtRAR4Abjv0zp71zKcj8  30000.00000000   \n",
       "\n",
       "      origQty executedQty cummulativeQuoteQty status timeInForce   type  side  \\\n",
       "0  0.10000000  0.00000000          0.00000000    NEW         GTC  LIMIT   BUY   \n",
       "1  0.10000000  0.00000000          0.00000000    NEW         GTC  LIMIT  SELL   \n",
       "\n",
       "    stopPrice  icebergQty           time     updateTime  isWorking  \\\n",
       "0  0.00000000  0.00000000  1661548993027  1661548993027       True   \n",
       "1  0.00000000  0.00000000  1661549117237  1661549117237       True   \n",
       "\n",
       "  origQuoteOrderQty  \n",
       "0        0.00000000  \n",
       "1        0.00000000  "
      ]
     },
     "execution_count": 115,
     "metadata": {},
     "output_type": "execute_result"
    }
   ],
   "source": [
    "pd.DataFrame(open_orders)"
   ]
  },
  {
   "cell_type": "code",
   "execution_count": 116,
   "id": "442cb40d",
   "metadata": {},
   "outputs": [
    {
     "data": {
      "text/plain": [
       "{'symbol': 'BTCUSDT',\n",
       " 'origClientOrderId': 'fUeOqiDbHcCGMpEkAfvKYR',\n",
       " 'orderId': 12358953,\n",
       " 'orderListId': -1,\n",
       " 'clientOrderId': 'eCYEZ40zmlAreOQdSecV8E',\n",
       " 'price': '20000.00000000',\n",
       " 'origQty': '0.10000000',\n",
       " 'executedQty': '0.00000000',\n",
       " 'cummulativeQuoteQty': '0.00000000',\n",
       " 'status': 'CANCELED',\n",
       " 'timeInForce': 'GTC',\n",
       " 'type': 'LIMIT',\n",
       " 'side': 'BUY'}"
      ]
     },
     "execution_count": 116,
     "metadata": {},
     "output_type": "execute_result"
    }
   ],
   "source": [
    "# cancelling the limit orders\n",
    "\n",
    "result = client.cancel_order(symbol = 'BTCUSDT', orderId = order_id_buy)\n",
    "result"
   ]
  },
  {
   "cell_type": "code",
   "execution_count": 117,
   "id": "6376813e",
   "metadata": {},
   "outputs": [
    {
     "data": {
      "text/plain": [
       "{'symbol': 'BTCUSDT',\n",
       " 'origClientOrderId': 'ATjtRAR4Abjv0zp71zKcj8',\n",
       " 'orderId': 12359519,\n",
       " 'orderListId': -1,\n",
       " 'clientOrderId': '4oACirvkmcEtXQuAFOXhxT',\n",
       " 'price': '30000.00000000',\n",
       " 'origQty': '0.10000000',\n",
       " 'executedQty': '0.00000000',\n",
       " 'cummulativeQuoteQty': '0.00000000',\n",
       " 'status': 'CANCELED',\n",
       " 'timeInForce': 'GTC',\n",
       " 'type': 'LIMIT',\n",
       " 'side': 'SELL'}"
      ]
     },
     "execution_count": 117,
     "metadata": {},
     "output_type": "execute_result"
    }
   ],
   "source": [
    "result = client.cancel_order(symbol = 'BTCUSDT', orderId = order_id_sell)\n",
    "result"
   ]
  },
  {
   "cell_type": "code",
   "execution_count": 118,
   "id": "7eb5d30b",
   "metadata": {},
   "outputs": [
    {
     "data": {
      "text/plain": [
       "[]"
      ]
     },
     "execution_count": 118,
     "metadata": {},
     "output_type": "execute_result"
    }
   ],
   "source": [
    "client.get_open_orders()"
   ]
  },
  {
   "cell_type": "markdown",
   "id": "963189fd",
   "metadata": {},
   "source": [
    "# Retrieve Data for all orders"
   ]
  },
  {
   "cell_type": "code",
   "execution_count": 121,
   "id": "7509a6d6",
   "metadata": {},
   "outputs": [
    {
     "data": {
      "text/plain": [
       "[{'symbol': 'BTCUSDT',\n",
       "  'orderId': 12346682,\n",
       "  'orderListId': -1,\n",
       "  'clientOrderId': '7a6emdBmYoIPn18cbUbjR1',\n",
       "  'price': '0.00000000',\n",
       "  'origQty': '0.10000000',\n",
       "  'executedQty': '0.10000000',\n",
       "  'cummulativeQuoteQty': '2066.86559802',\n",
       "  'status': 'FILLED',\n",
       "  'timeInForce': 'GTC',\n",
       "  'type': 'MARKET',\n",
       "  'side': 'BUY',\n",
       "  'stopPrice': '0.00000000',\n",
       "  'icebergQty': '0.00000000',\n",
       "  'time': 1661546581156,\n",
       "  'updateTime': 1661546581156,\n",
       "  'isWorking': True,\n",
       "  'origQuoteOrderQty': '0.00000000'},\n",
       " {'symbol': 'BTCUSDT',\n",
       "  'orderId': 12356343,\n",
       "  'orderListId': -1,\n",
       "  'clientOrderId': 'hcgeKqgbHXPxUA1FoE5Ocd',\n",
       "  'price': '0.00000000',\n",
       "  'origQty': '0.04840200',\n",
       "  'executedQty': '0.04840200',\n",
       "  'cummulativeQuoteQty': '999.98289990',\n",
       "  'status': 'FILLED',\n",
       "  'timeInForce': 'GTC',\n",
       "  'type': 'MARKET',\n",
       "  'side': 'BUY',\n",
       "  'stopPrice': '0.00000000',\n",
       "  'icebergQty': '0.00000000',\n",
       "  'time': 1661548484479,\n",
       "  'updateTime': 1661548484479,\n",
       "  'isWorking': True,\n",
       "  'origQuoteOrderQty': '1000.00000000'},\n",
       " {'symbol': 'BTCUSDT',\n",
       "  'orderId': 12357696,\n",
       "  'orderListId': -1,\n",
       "  'clientOrderId': 'OUbl1YsTP35AanCm4YTjzl',\n",
       "  'price': '0.00000000',\n",
       "  'origQty': '0.10000000',\n",
       "  'executedQty': '0.10000000',\n",
       "  'cummulativeQuoteQty': '2066.20458397',\n",
       "  'status': 'FILLED',\n",
       "  'timeInForce': 'GTC',\n",
       "  'type': 'MARKET',\n",
       "  'side': 'SELL',\n",
       "  'stopPrice': '0.00000000',\n",
       "  'icebergQty': '0.00000000',\n",
       "  'time': 1661548726678,\n",
       "  'updateTime': 1661548726678,\n",
       "  'isWorking': True,\n",
       "  'origQuoteOrderQty': '0.00000000'},\n",
       " {'symbol': 'BTCUSDT',\n",
       "  'orderId': 12358953,\n",
       "  'orderListId': -1,\n",
       "  'clientOrderId': 'fUeOqiDbHcCGMpEkAfvKYR',\n",
       "  'price': '20000.00000000',\n",
       "  'origQty': '0.10000000',\n",
       "  'executedQty': '0.00000000',\n",
       "  'cummulativeQuoteQty': '0.00000000',\n",
       "  'status': 'CANCELED',\n",
       "  'timeInForce': 'GTC',\n",
       "  'type': 'LIMIT',\n",
       "  'side': 'BUY',\n",
       "  'stopPrice': '0.00000000',\n",
       "  'icebergQty': '0.00000000',\n",
       "  'time': 1661548993027,\n",
       "  'updateTime': 1661549259320,\n",
       "  'isWorking': True,\n",
       "  'origQuoteOrderQty': '0.00000000'},\n",
       " {'symbol': 'BTCUSDT',\n",
       "  'orderId': 12359519,\n",
       "  'orderListId': -1,\n",
       "  'clientOrderId': 'ATjtRAR4Abjv0zp71zKcj8',\n",
       "  'price': '30000.00000000',\n",
       "  'origQty': '0.10000000',\n",
       "  'executedQty': '0.00000000',\n",
       "  'cummulativeQuoteQty': '0.00000000',\n",
       "  'status': 'CANCELED',\n",
       "  'timeInForce': 'GTC',\n",
       "  'type': 'LIMIT',\n",
       "  'side': 'SELL',\n",
       "  'stopPrice': '0.00000000',\n",
       "  'icebergQty': '0.00000000',\n",
       "  'time': 1661549117237,\n",
       "  'updateTime': 1661549272865,\n",
       "  'isWorking': True,\n",
       "  'origQuoteOrderQty': '0.00000000'}]"
      ]
     },
     "execution_count": 121,
     "metadata": {},
     "output_type": "execute_result"
    }
   ],
   "source": [
    "all_orders = client.get_all_orders(symbol = 'BTCUSDT')\n",
    "all_orders"
   ]
  },
  {
   "cell_type": "code",
   "execution_count": 122,
   "id": "5fc24323",
   "metadata": {},
   "outputs": [],
   "source": [
    "df = pd.DataFrame(all_orders)"
   ]
  },
  {
   "cell_type": "code",
   "execution_count": 123,
   "id": "6ba54544",
   "metadata": {},
   "outputs": [
    {
     "data": {
      "text/html": [
       "<div>\n",
       "<style scoped>\n",
       "    .dataframe tbody tr th:only-of-type {\n",
       "        vertical-align: middle;\n",
       "    }\n",
       "\n",
       "    .dataframe tbody tr th {\n",
       "        vertical-align: top;\n",
       "    }\n",
       "\n",
       "    .dataframe thead th {\n",
       "        text-align: right;\n",
       "    }\n",
       "</style>\n",
       "<table border=\"1\" class=\"dataframe\">\n",
       "  <thead>\n",
       "    <tr style=\"text-align: right;\">\n",
       "      <th></th>\n",
       "      <th>symbol</th>\n",
       "      <th>orderId</th>\n",
       "      <th>orderListId</th>\n",
       "      <th>clientOrderId</th>\n",
       "      <th>price</th>\n",
       "      <th>origQty</th>\n",
       "      <th>executedQty</th>\n",
       "      <th>cummulativeQuoteQty</th>\n",
       "      <th>status</th>\n",
       "      <th>timeInForce</th>\n",
       "      <th>type</th>\n",
       "      <th>side</th>\n",
       "      <th>stopPrice</th>\n",
       "      <th>icebergQty</th>\n",
       "      <th>time</th>\n",
       "      <th>updateTime</th>\n",
       "      <th>isWorking</th>\n",
       "      <th>origQuoteOrderQty</th>\n",
       "    </tr>\n",
       "  </thead>\n",
       "  <tbody>\n",
       "    <tr>\n",
       "      <th>0</th>\n",
       "      <td>BTCUSDT</td>\n",
       "      <td>12346682</td>\n",
       "      <td>-1</td>\n",
       "      <td>7a6emdBmYoIPn18cbUbjR1</td>\n",
       "      <td>0.00000000</td>\n",
       "      <td>0.10000000</td>\n",
       "      <td>0.10000000</td>\n",
       "      <td>2066.86559802</td>\n",
       "      <td>FILLED</td>\n",
       "      <td>GTC</td>\n",
       "      <td>MARKET</td>\n",
       "      <td>BUY</td>\n",
       "      <td>0.00000000</td>\n",
       "      <td>0.00000000</td>\n",
       "      <td>1661546581156</td>\n",
       "      <td>1661546581156</td>\n",
       "      <td>True</td>\n",
       "      <td>0.00000000</td>\n",
       "    </tr>\n",
       "    <tr>\n",
       "      <th>1</th>\n",
       "      <td>BTCUSDT</td>\n",
       "      <td>12356343</td>\n",
       "      <td>-1</td>\n",
       "      <td>hcgeKqgbHXPxUA1FoE5Ocd</td>\n",
       "      <td>0.00000000</td>\n",
       "      <td>0.04840200</td>\n",
       "      <td>0.04840200</td>\n",
       "      <td>999.98289990</td>\n",
       "      <td>FILLED</td>\n",
       "      <td>GTC</td>\n",
       "      <td>MARKET</td>\n",
       "      <td>BUY</td>\n",
       "      <td>0.00000000</td>\n",
       "      <td>0.00000000</td>\n",
       "      <td>1661548484479</td>\n",
       "      <td>1661548484479</td>\n",
       "      <td>True</td>\n",
       "      <td>1000.00000000</td>\n",
       "    </tr>\n",
       "    <tr>\n",
       "      <th>2</th>\n",
       "      <td>BTCUSDT</td>\n",
       "      <td>12357696</td>\n",
       "      <td>-1</td>\n",
       "      <td>OUbl1YsTP35AanCm4YTjzl</td>\n",
       "      <td>0.00000000</td>\n",
       "      <td>0.10000000</td>\n",
       "      <td>0.10000000</td>\n",
       "      <td>2066.20458397</td>\n",
       "      <td>FILLED</td>\n",
       "      <td>GTC</td>\n",
       "      <td>MARKET</td>\n",
       "      <td>SELL</td>\n",
       "      <td>0.00000000</td>\n",
       "      <td>0.00000000</td>\n",
       "      <td>1661548726678</td>\n",
       "      <td>1661548726678</td>\n",
       "      <td>True</td>\n",
       "      <td>0.00000000</td>\n",
       "    </tr>\n",
       "    <tr>\n",
       "      <th>3</th>\n",
       "      <td>BTCUSDT</td>\n",
       "      <td>12358953</td>\n",
       "      <td>-1</td>\n",
       "      <td>fUeOqiDbHcCGMpEkAfvKYR</td>\n",
       "      <td>20000.00000000</td>\n",
       "      <td>0.10000000</td>\n",
       "      <td>0.00000000</td>\n",
       "      <td>0.00000000</td>\n",
       "      <td>CANCELED</td>\n",
       "      <td>GTC</td>\n",
       "      <td>LIMIT</td>\n",
       "      <td>BUY</td>\n",
       "      <td>0.00000000</td>\n",
       "      <td>0.00000000</td>\n",
       "      <td>1661548993027</td>\n",
       "      <td>1661549259320</td>\n",
       "      <td>True</td>\n",
       "      <td>0.00000000</td>\n",
       "    </tr>\n",
       "    <tr>\n",
       "      <th>4</th>\n",
       "      <td>BTCUSDT</td>\n",
       "      <td>12359519</td>\n",
       "      <td>-1</td>\n",
       "      <td>ATjtRAR4Abjv0zp71zKcj8</td>\n",
       "      <td>30000.00000000</td>\n",
       "      <td>0.10000000</td>\n",
       "      <td>0.00000000</td>\n",
       "      <td>0.00000000</td>\n",
       "      <td>CANCELED</td>\n",
       "      <td>GTC</td>\n",
       "      <td>LIMIT</td>\n",
       "      <td>SELL</td>\n",
       "      <td>0.00000000</td>\n",
       "      <td>0.00000000</td>\n",
       "      <td>1661549117237</td>\n",
       "      <td>1661549272865</td>\n",
       "      <td>True</td>\n",
       "      <td>0.00000000</td>\n",
       "    </tr>\n",
       "  </tbody>\n",
       "</table>\n",
       "</div>"
      ],
      "text/plain": [
       "    symbol   orderId  orderListId           clientOrderId           price  \\\n",
       "0  BTCUSDT  12346682           -1  7a6emdBmYoIPn18cbUbjR1      0.00000000   \n",
       "1  BTCUSDT  12356343           -1  hcgeKqgbHXPxUA1FoE5Ocd      0.00000000   \n",
       "2  BTCUSDT  12357696           -1  OUbl1YsTP35AanCm4YTjzl      0.00000000   \n",
       "3  BTCUSDT  12358953           -1  fUeOqiDbHcCGMpEkAfvKYR  20000.00000000   \n",
       "4  BTCUSDT  12359519           -1  ATjtRAR4Abjv0zp71zKcj8  30000.00000000   \n",
       "\n",
       "      origQty executedQty cummulativeQuoteQty    status timeInForce    type  \\\n",
       "0  0.10000000  0.10000000       2066.86559802    FILLED         GTC  MARKET   \n",
       "1  0.04840200  0.04840200        999.98289990    FILLED         GTC  MARKET   \n",
       "2  0.10000000  0.10000000       2066.20458397    FILLED         GTC  MARKET   \n",
       "3  0.10000000  0.00000000          0.00000000  CANCELED         GTC   LIMIT   \n",
       "4  0.10000000  0.00000000          0.00000000  CANCELED         GTC   LIMIT   \n",
       "\n",
       "   side   stopPrice  icebergQty           time     updateTime  isWorking  \\\n",
       "0   BUY  0.00000000  0.00000000  1661546581156  1661546581156       True   \n",
       "1   BUY  0.00000000  0.00000000  1661548484479  1661548484479       True   \n",
       "2  SELL  0.00000000  0.00000000  1661548726678  1661548726678       True   \n",
       "3   BUY  0.00000000  0.00000000  1661548993027  1661549259320       True   \n",
       "4  SELL  0.00000000  0.00000000  1661549117237  1661549272865       True   \n",
       "\n",
       "  origQuoteOrderQty  \n",
       "0        0.00000000  \n",
       "1     1000.00000000  \n",
       "2        0.00000000  \n",
       "3        0.00000000  \n",
       "4        0.00000000  "
      ]
     },
     "execution_count": 123,
     "metadata": {},
     "output_type": "execute_result"
    }
   ],
   "source": [
    "df"
   ]
  },
  {
   "cell_type": "code",
   "execution_count": 124,
   "id": "a3565cd2",
   "metadata": {},
   "outputs": [],
   "source": [
    "trades = client.get_my_trades(symbol = 'BTCUSDT')"
   ]
  },
  {
   "cell_type": "code",
   "execution_count": 125,
   "id": "222cf3d6",
   "metadata": {},
   "outputs": [
    {
     "data": {
      "text/plain": [
       "[{'symbol': 'BTCUSDT',\n",
       "  'id': 3713544,\n",
       "  'orderId': 12346682,\n",
       "  'orderListId': -1,\n",
       "  'price': '20668.65000000',\n",
       "  'qty': '0.04019800',\n",
       "  'quoteQty': '830.83839270',\n",
       "  'commission': '0.00000000',\n",
       "  'commissionAsset': 'BTC',\n",
       "  'time': 1661546581156,\n",
       "  'isBuyer': True,\n",
       "  'isMaker': False,\n",
       "  'isBestMatch': True},\n",
       " {'symbol': 'BTCUSDT',\n",
       "  'id': 3713545,\n",
       "  'orderId': 12346682,\n",
       "  'orderListId': -1,\n",
       "  'price': '20668.66000000',\n",
       "  'qty': '0.05980200',\n",
       "  'quoteQty': '1236.02720532',\n",
       "  'commission': '0.00000000',\n",
       "  'commissionAsset': 'BTC',\n",
       "  'time': 1661546581156,\n",
       "  'isBuyer': True,\n",
       "  'isMaker': False,\n",
       "  'isBestMatch': True},\n",
       " {'symbol': 'BTCUSDT',\n",
       "  'id': 3716881,\n",
       "  'orderId': 12356343,\n",
       "  'orderListId': -1,\n",
       "  'price': '20659.95000000',\n",
       "  'qty': '0.04840200',\n",
       "  'quoteQty': '999.98289990',\n",
       "  'commission': '0.00000000',\n",
       "  'commissionAsset': 'BTC',\n",
       "  'time': 1661548484479,\n",
       "  'isBuyer': True,\n",
       "  'isMaker': False,\n",
       "  'isBestMatch': True},\n",
       " {'symbol': 'BTCUSDT',\n",
       "  'id': 3717399,\n",
       "  'orderId': 12357696,\n",
       "  'orderListId': -1,\n",
       "  'price': '20662.05000000',\n",
       "  'qty': '0.05839700',\n",
       "  'quoteQty': '1206.60173385',\n",
       "  'commission': '0.00000000',\n",
       "  'commissionAsset': 'USDT',\n",
       "  'time': 1661548726678,\n",
       "  'isBuyer': False,\n",
       "  'isMaker': False,\n",
       "  'isBestMatch': True},\n",
       " {'symbol': 'BTCUSDT',\n",
       "  'id': 3717400,\n",
       "  'orderId': 12357696,\n",
       "  'orderListId': -1,\n",
       "  'price': '20662.04000000',\n",
       "  'qty': '0.04160300',\n",
       "  'quoteQty': '859.60285012',\n",
       "  'commission': '0.00000000',\n",
       "  'commissionAsset': 'USDT',\n",
       "  'time': 1661548726678,\n",
       "  'isBuyer': False,\n",
       "  'isMaker': False,\n",
       "  'isBestMatch': True}]"
      ]
     },
     "execution_count": 125,
     "metadata": {},
     "output_type": "execute_result"
    }
   ],
   "source": [
    "trades"
   ]
  },
  {
   "cell_type": "code",
   "execution_count": 126,
   "id": "da4e187f",
   "metadata": {},
   "outputs": [
    {
     "data": {
      "text/html": [
       "<div>\n",
       "<style scoped>\n",
       "    .dataframe tbody tr th:only-of-type {\n",
       "        vertical-align: middle;\n",
       "    }\n",
       "\n",
       "    .dataframe tbody tr th {\n",
       "        vertical-align: top;\n",
       "    }\n",
       "\n",
       "    .dataframe thead th {\n",
       "        text-align: right;\n",
       "    }\n",
       "</style>\n",
       "<table border=\"1\" class=\"dataframe\">\n",
       "  <thead>\n",
       "    <tr style=\"text-align: right;\">\n",
       "      <th></th>\n",
       "      <th>symbol</th>\n",
       "      <th>id</th>\n",
       "      <th>orderId</th>\n",
       "      <th>orderListId</th>\n",
       "      <th>price</th>\n",
       "      <th>qty</th>\n",
       "      <th>quoteQty</th>\n",
       "      <th>commission</th>\n",
       "      <th>commissionAsset</th>\n",
       "      <th>time</th>\n",
       "      <th>isBuyer</th>\n",
       "      <th>isMaker</th>\n",
       "      <th>isBestMatch</th>\n",
       "    </tr>\n",
       "  </thead>\n",
       "  <tbody>\n",
       "    <tr>\n",
       "      <th>0</th>\n",
       "      <td>BTCUSDT</td>\n",
       "      <td>3713544</td>\n",
       "      <td>12346682</td>\n",
       "      <td>-1</td>\n",
       "      <td>20668.65000000</td>\n",
       "      <td>0.04019800</td>\n",
       "      <td>830.83839270</td>\n",
       "      <td>0.00000000</td>\n",
       "      <td>BTC</td>\n",
       "      <td>1661546581156</td>\n",
       "      <td>True</td>\n",
       "      <td>False</td>\n",
       "      <td>True</td>\n",
       "    </tr>\n",
       "    <tr>\n",
       "      <th>1</th>\n",
       "      <td>BTCUSDT</td>\n",
       "      <td>3713545</td>\n",
       "      <td>12346682</td>\n",
       "      <td>-1</td>\n",
       "      <td>20668.66000000</td>\n",
       "      <td>0.05980200</td>\n",
       "      <td>1236.02720532</td>\n",
       "      <td>0.00000000</td>\n",
       "      <td>BTC</td>\n",
       "      <td>1661546581156</td>\n",
       "      <td>True</td>\n",
       "      <td>False</td>\n",
       "      <td>True</td>\n",
       "    </tr>\n",
       "    <tr>\n",
       "      <th>2</th>\n",
       "      <td>BTCUSDT</td>\n",
       "      <td>3716881</td>\n",
       "      <td>12356343</td>\n",
       "      <td>-1</td>\n",
       "      <td>20659.95000000</td>\n",
       "      <td>0.04840200</td>\n",
       "      <td>999.98289990</td>\n",
       "      <td>0.00000000</td>\n",
       "      <td>BTC</td>\n",
       "      <td>1661548484479</td>\n",
       "      <td>True</td>\n",
       "      <td>False</td>\n",
       "      <td>True</td>\n",
       "    </tr>\n",
       "    <tr>\n",
       "      <th>3</th>\n",
       "      <td>BTCUSDT</td>\n",
       "      <td>3717399</td>\n",
       "      <td>12357696</td>\n",
       "      <td>-1</td>\n",
       "      <td>20662.05000000</td>\n",
       "      <td>0.05839700</td>\n",
       "      <td>1206.60173385</td>\n",
       "      <td>0.00000000</td>\n",
       "      <td>USDT</td>\n",
       "      <td>1661548726678</td>\n",
       "      <td>False</td>\n",
       "      <td>False</td>\n",
       "      <td>True</td>\n",
       "    </tr>\n",
       "    <tr>\n",
       "      <th>4</th>\n",
       "      <td>BTCUSDT</td>\n",
       "      <td>3717400</td>\n",
       "      <td>12357696</td>\n",
       "      <td>-1</td>\n",
       "      <td>20662.04000000</td>\n",
       "      <td>0.04160300</td>\n",
       "      <td>859.60285012</td>\n",
       "      <td>0.00000000</td>\n",
       "      <td>USDT</td>\n",
       "      <td>1661548726678</td>\n",
       "      <td>False</td>\n",
       "      <td>False</td>\n",
       "      <td>True</td>\n",
       "    </tr>\n",
       "  </tbody>\n",
       "</table>\n",
       "</div>"
      ],
      "text/plain": [
       "    symbol       id   orderId  orderListId           price         qty  \\\n",
       "0  BTCUSDT  3713544  12346682           -1  20668.65000000  0.04019800   \n",
       "1  BTCUSDT  3713545  12346682           -1  20668.66000000  0.05980200   \n",
       "2  BTCUSDT  3716881  12356343           -1  20659.95000000  0.04840200   \n",
       "3  BTCUSDT  3717399  12357696           -1  20662.05000000  0.05839700   \n",
       "4  BTCUSDT  3717400  12357696           -1  20662.04000000  0.04160300   \n",
       "\n",
       "        quoteQty  commission commissionAsset           time  isBuyer  isMaker  \\\n",
       "0   830.83839270  0.00000000             BTC  1661546581156     True    False   \n",
       "1  1236.02720532  0.00000000             BTC  1661546581156     True    False   \n",
       "2   999.98289990  0.00000000             BTC  1661548484479     True    False   \n",
       "3  1206.60173385  0.00000000            USDT  1661548726678    False    False   \n",
       "4   859.60285012  0.00000000            USDT  1661548726678    False    False   \n",
       "\n",
       "   isBestMatch  \n",
       "0         True  \n",
       "1         True  \n",
       "2         True  \n",
       "3         True  \n",
       "4         True  "
      ]
     },
     "execution_count": 126,
     "metadata": {},
     "output_type": "execute_result"
    }
   ],
   "source": [
    "df = pd.DataFrame(trades)\n",
    "df"
   ]
  },
  {
   "cell_type": "code",
   "execution_count": 128,
   "id": "00975945",
   "metadata": {},
   "outputs": [
    {
     "data": {
      "text/html": [
       "<div>\n",
       "<style scoped>\n",
       "    .dataframe tbody tr th:only-of-type {\n",
       "        vertical-align: middle;\n",
       "    }\n",
       "\n",
       "    .dataframe tbody tr th {\n",
       "        vertical-align: top;\n",
       "    }\n",
       "\n",
       "    .dataframe thead th {\n",
       "        text-align: right;\n",
       "    }\n",
       "</style>\n",
       "<table border=\"1\" class=\"dataframe\">\n",
       "  <thead>\n",
       "    <tr style=\"text-align: right;\">\n",
       "      <th></th>\n",
       "      <th>symbol</th>\n",
       "      <th>id</th>\n",
       "      <th>orderId</th>\n",
       "      <th>orderListId</th>\n",
       "      <th>price</th>\n",
       "      <th>qty</th>\n",
       "      <th>quoteQty</th>\n",
       "      <th>commission</th>\n",
       "      <th>commissionAsset</th>\n",
       "      <th>time</th>\n",
       "      <th>isBuyer</th>\n",
       "      <th>isMaker</th>\n",
       "      <th>isBestMatch</th>\n",
       "      <th>Date</th>\n",
       "    </tr>\n",
       "  </thead>\n",
       "  <tbody>\n",
       "    <tr>\n",
       "      <th>0</th>\n",
       "      <td>BTCUSDT</td>\n",
       "      <td>3713544</td>\n",
       "      <td>12346682</td>\n",
       "      <td>-1</td>\n",
       "      <td>20668.65000000</td>\n",
       "      <td>0.04019800</td>\n",
       "      <td>830.83839270</td>\n",
       "      <td>0.00000000</td>\n",
       "      <td>BTC</td>\n",
       "      <td>1661546581156</td>\n",
       "      <td>True</td>\n",
       "      <td>False</td>\n",
       "      <td>True</td>\n",
       "      <td>2022-08-26 20:43:01.156</td>\n",
       "    </tr>\n",
       "    <tr>\n",
       "      <th>1</th>\n",
       "      <td>BTCUSDT</td>\n",
       "      <td>3713545</td>\n",
       "      <td>12346682</td>\n",
       "      <td>-1</td>\n",
       "      <td>20668.66000000</td>\n",
       "      <td>0.05980200</td>\n",
       "      <td>1236.02720532</td>\n",
       "      <td>0.00000000</td>\n",
       "      <td>BTC</td>\n",
       "      <td>1661546581156</td>\n",
       "      <td>True</td>\n",
       "      <td>False</td>\n",
       "      <td>True</td>\n",
       "      <td>2022-08-26 20:43:01.156</td>\n",
       "    </tr>\n",
       "    <tr>\n",
       "      <th>2</th>\n",
       "      <td>BTCUSDT</td>\n",
       "      <td>3716881</td>\n",
       "      <td>12356343</td>\n",
       "      <td>-1</td>\n",
       "      <td>20659.95000000</td>\n",
       "      <td>0.04840200</td>\n",
       "      <td>999.98289990</td>\n",
       "      <td>0.00000000</td>\n",
       "      <td>BTC</td>\n",
       "      <td>1661548484479</td>\n",
       "      <td>True</td>\n",
       "      <td>False</td>\n",
       "      <td>True</td>\n",
       "      <td>2022-08-26 21:14:44.479</td>\n",
       "    </tr>\n",
       "    <tr>\n",
       "      <th>3</th>\n",
       "      <td>BTCUSDT</td>\n",
       "      <td>3717399</td>\n",
       "      <td>12357696</td>\n",
       "      <td>-1</td>\n",
       "      <td>20662.05000000</td>\n",
       "      <td>0.05839700</td>\n",
       "      <td>1206.60173385</td>\n",
       "      <td>0.00000000</td>\n",
       "      <td>USDT</td>\n",
       "      <td>1661548726678</td>\n",
       "      <td>False</td>\n",
       "      <td>False</td>\n",
       "      <td>True</td>\n",
       "      <td>2022-08-26 21:18:46.678</td>\n",
       "    </tr>\n",
       "    <tr>\n",
       "      <th>4</th>\n",
       "      <td>BTCUSDT</td>\n",
       "      <td>3717400</td>\n",
       "      <td>12357696</td>\n",
       "      <td>-1</td>\n",
       "      <td>20662.04000000</td>\n",
       "      <td>0.04160300</td>\n",
       "      <td>859.60285012</td>\n",
       "      <td>0.00000000</td>\n",
       "      <td>USDT</td>\n",
       "      <td>1661548726678</td>\n",
       "      <td>False</td>\n",
       "      <td>False</td>\n",
       "      <td>True</td>\n",
       "      <td>2022-08-26 21:18:46.678</td>\n",
       "    </tr>\n",
       "  </tbody>\n",
       "</table>\n",
       "</div>"
      ],
      "text/plain": [
       "    symbol       id   orderId  orderListId           price         qty  \\\n",
       "0  BTCUSDT  3713544  12346682           -1  20668.65000000  0.04019800   \n",
       "1  BTCUSDT  3713545  12346682           -1  20668.66000000  0.05980200   \n",
       "2  BTCUSDT  3716881  12356343           -1  20659.95000000  0.04840200   \n",
       "3  BTCUSDT  3717399  12357696           -1  20662.05000000  0.05839700   \n",
       "4  BTCUSDT  3717400  12357696           -1  20662.04000000  0.04160300   \n",
       "\n",
       "        quoteQty  commission commissionAsset           time  isBuyer  isMaker  \\\n",
       "0   830.83839270  0.00000000             BTC  1661546581156     True    False   \n",
       "1  1236.02720532  0.00000000             BTC  1661546581156     True    False   \n",
       "2   999.98289990  0.00000000             BTC  1661548484479     True    False   \n",
       "3  1206.60173385  0.00000000            USDT  1661548726678    False    False   \n",
       "4   859.60285012  0.00000000            USDT  1661548726678    False    False   \n",
       "\n",
       "   isBestMatch                    Date  \n",
       "0         True 2022-08-26 20:43:01.156  \n",
       "1         True 2022-08-26 20:43:01.156  \n",
       "2         True 2022-08-26 21:14:44.479  \n",
       "3         True 2022-08-26 21:18:46.678  \n",
       "4         True 2022-08-26 21:18:46.678  "
      ]
     },
     "execution_count": 128,
     "metadata": {},
     "output_type": "execute_result"
    }
   ],
   "source": [
    "df['Date'] = pd.to_datetime(df.time, unit = 'ms', errors = 'coerce')\n",
    "df\n",
    "# trades are in chronological order"
   ]
  },
  {
   "cell_type": "code",
   "execution_count": null,
   "id": "9eaa10fb",
   "metadata": {},
   "outputs": [],
   "source": [
    "df "
   ]
  }
 ],
 "metadata": {
  "kernelspec": {
   "display_name": "Python 3",
   "language": "python",
   "name": "python3"
  },
  "language_info": {
   "codemirror_mode": {
    "name": "ipython",
    "version": 3
   },
   "file_extension": ".py",
   "mimetype": "text/x-python",
   "name": "python",
   "nbconvert_exporter": "python",
   "pygments_lexer": "ipython3",
   "version": "3.8.8"
  }
 },
 "nbformat": 4,
 "nbformat_minor": 5
}
