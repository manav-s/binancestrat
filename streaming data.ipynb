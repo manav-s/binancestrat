{
 "cells": [
  {
   "cell_type": "code",
   "execution_count": 1,
   "id": "a6d3ccbd",
   "metadata": {},
   "outputs": [],
   "source": [
    "from binance import ThreadedWebsocketManager\n",
    "import pandas as pd"
   ]
  },
  {
   "cell_type": "code",
   "execution_count": 2,
   "id": "1071940b",
   "metadata": {},
   "outputs": [],
   "source": [
    "def stream_data(msg):\n",
    "    ''' define how to process incoming WebSocket messages'''\n",
    "    print(msg)"
   ]
  },
  {
   "cell_type": "code",
   "execution_count": 10,
   "id": "bfa9f95e",
   "metadata": {},
   "outputs": [],
   "source": [
    "# initialize and start the WebSocket\n",
    "twm = ThreadedWebsocketManager(tld = \"us\")\n",
    "twm.start()"
   ]
  },
  {
   "cell_type": "code",
   "execution_count": 11,
   "id": "69a8ef24",
   "metadata": {},
   "outputs": [
    {
     "data": {
      "text/plain": [
       "<ThreadedWebsocketManager(Thread-7, started 123145663746048)>"
      ]
     },
     "execution_count": 11,
     "metadata": {},
     "output_type": "execute_result"
    }
   ],
   "source": [
    "twm"
   ]
  },
  {
   "cell_type": "markdown",
   "id": "14a76e89",
   "metadata": {},
   "source": [
    "## Different Market Streams are available\n",
    "https://binance-docs.github.io/apidocs/spot/en/#rolling-window-price-change-statistics\n",
    "We'll use Individual Symbol Mini Ticker Stream for this example"
   ]
  },
  {
   "cell_type": "code",
   "execution_count": 13,
   "id": "57658a15",
   "metadata": {},
   "outputs": [
    {
     "data": {
      "text/plain": [
       "'btcusd@miniTicker'"
      ]
     },
     "execution_count": 13,
     "metadata": {},
     "output_type": "execute_result"
    },
    {
     "name": "stdout",
     "output_type": "stream",
     "text": [
      "{'e': '24hrMiniTicker', 'E': 1661471268442, 's': 'BTCUSDT', 'c': '21609.85000000', 'o': '21391.12000000', 'h': '21817.93000000', 'l': '21312.78000000', 'v': '1233.23414800', 'q': '26641116.99959231'}\n",
      "{'e': '24hrMiniTicker', 'E': 1661471274915, 's': 'BTCUSD', 'c': '21613.2100', 'o': '21387.0400', 'h': '21814.5100', 'l': '21311.6300', 'v': '6081.70947200', 'q': '131337179.6744'}\n",
      "{'e': '24hrMiniTicker', 'E': 1661471274916, 's': 'BTCUSD', 'c': '21613.2100', 'o': '21387.0400', 'h': '21814.5100', 'l': '21311.6300', 'v': '6081.85947200', 'q': '131340421.6559'}\n",
      "{'e': '24hrMiniTicker', 'E': 1661471276231, 's': 'BTCUSD', 'c': '21613.2100', 'o': '21387.0400', 'h': '21814.5100', 'l': '21311.6300', 'v': '6082.36608600', 'q': '131351371.2104'}\n"
     ]
    }
   ],
   "source": [
    "twm.start_symbol_miniticker_socket(callback = stream_data, symbol = 'BTCUSD')\n",
    "# this will start the stream"
   ]
  },
  {
   "cell_type": "code",
   "execution_count": 14,
   "id": "93d99454",
   "metadata": {},
   "outputs": [
    {
     "name": "stderr",
     "output_type": "stream",
     "text": [
      "CANCEL read_loop\n",
      "CANCEL read_loop\n"
     ]
    }
   ],
   "source": [
    "twm.stop() # this will stop the stream"
   ]
  },
  {
   "cell_type": "markdown",
   "id": "3c51dea1",
   "metadata": {},
   "source": [
    "### Individual Symbol Mini Ticker Output/Message\n",
    "#### 'e': '24hrMiniTicker', // event type\n",
    "#### 'E': 1661470144192, // event time\n",
    "#### 's': 'BTCUSDT', // symbol\n",
    "#### 'c': '21601.09000000', // close price\n",
    "#### 'o': '21483.68000000', // open price\n",
    "#### 'h': '21819.88000000', // high price\n",
    "#### 'l': '21310.15000000', // low price\n",
    "#### 'v': '171234.02469000', // total traded base asset volume\n",
    "#### 'q': '3700014139.02643990' // total traded quote asset volume"
   ]
  },
  {
   "cell_type": "markdown",
   "id": "50adcb22",
   "metadata": {},
   "source": [
    "## Streaming Market Data (Part 2) "
   ]
  },
  {
   "cell_type": "code",
   "execution_count": 16,
   "id": "75dd4fdf",
   "metadata": {},
   "outputs": [],
   "source": [
    "def stream_data(msg):\n",
    "    ''' define how to process incoming WebSocket messages'''\n",
    "    \n",
    "    time = pd.to_datetime(msg['E'], unit = 'ms')\n",
    "    price = msg['c']\n",
    "    \n",
    "    print(\"Time: {} | Price: {}\".format(time, price))"
   ]
  },
  {
   "cell_type": "code",
   "execution_count": 17,
   "id": "ab2f4c5c",
   "metadata": {},
   "outputs": [],
   "source": [
    "# initialize and start the WebSocket # need tld = 'us' for binance.us\n",
    "twm = ThreadedWebsocketManager(tld = \"us\")\n",
    "twm.start()"
   ]
  },
  {
   "cell_type": "code",
   "execution_count": 18,
   "id": "08283f36",
   "metadata": {},
   "outputs": [
    {
     "data": {
      "text/plain": [
       "'btcusd@miniTicker'"
      ]
     },
     "execution_count": 18,
     "metadata": {},
     "output_type": "execute_result"
    },
    {
     "name": "stdout",
     "output_type": "stream",
     "text": [
      "Time: 2022-08-25 23:51:35.151000 | Price: 21607.5500\n",
      "Time: 2022-08-25 23:51:47.484000 | Price: 21599.5300\n",
      "Time: 2022-08-25 23:51:55.863000 | Price: 21601.1300\n",
      "Time: 2022-08-25 23:52:08.442000 | Price: 21604.4800\n",
      "Time: 2022-08-25 23:52:08.833000 | Price: 21604.4700\n",
      "Time: 2022-08-25 23:52:12.803000 | Price: 21598.6600\n",
      "Time: 2022-08-25 23:52:13.682000 | Price: 21596.2300\n",
      "Time: 2022-08-25 23:52:14.384000 | Price: 21594.4500\n",
      "Time: 2022-08-25 23:52:17.193000 | Price: 21594.2500\n"
     ]
    }
   ],
   "source": [
    "twm.start_symbol_miniticker_socket(callback = stream_data, symbol = 'BTCUSD')"
   ]
  },
  {
   "cell_type": "code",
   "execution_count": 19,
   "id": "e84d87f4",
   "metadata": {},
   "outputs": [
    {
     "name": "stderr",
     "output_type": "stream",
     "text": [
      "CANCEL read_loop\n"
     ]
    }
   ],
   "source": [
    "twm.stop()"
   ]
  },
  {
   "cell_type": "code",
   "execution_count": 20,
   "id": "9dbd0071",
   "metadata": {},
   "outputs": [
    {
     "ename": "NameError",
     "evalue": "name 'df' is not defined",
     "output_type": "error",
     "traceback": [
      "\u001b[0;31m---------------------------------------------------------------------------\u001b[0m",
      "\u001b[0;31mNameError\u001b[0m                                 Traceback (most recent call last)",
      "Input \u001b[0;32mIn [20]\u001b[0m, in \u001b[0;36m<cell line: 1>\u001b[0;34m()\u001b[0m\n\u001b[0;32m----> 1\u001b[0m \u001b[43mdf\u001b[49m\n",
      "\u001b[0;31mNameError\u001b[0m: name 'df' is not defined"
     ]
    }
   ],
   "source": []
  },
  {
   "cell_type": "code",
   "execution_count": null,
   "id": "c7e293a9",
   "metadata": {},
   "outputs": [],
   "source": []
  }
 ],
 "metadata": {
  "kernelspec": {
   "display_name": "Python 3",
   "language": "python",
   "name": "python3"
  },
  "language_info": {
   "codemirror_mode": {
    "name": "ipython",
    "version": 3
   },
   "file_extension": ".py",
   "mimetype": "text/x-python",
   "name": "python",
   "nbconvert_exporter": "python",
   "pygments_lexer": "ipython3",
   "version": "3.8.8"
  }
 },
 "nbformat": 4,
 "nbformat_minor": 5
}
